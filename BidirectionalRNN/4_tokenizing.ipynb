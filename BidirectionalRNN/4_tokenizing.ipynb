{
 "cells": [
  {
   "cell_type": "code",
   "execution_count": 1,
   "id": "a32a804c-3a89-4e78-b82c-3f9d48fa1b45",
   "metadata": {},
   "outputs": [
    {
     "data": {
      "text/html": [
       "<div>\n",
       "<style scoped>\n",
       "    .dataframe tbody tr th:only-of-type {\n",
       "        vertical-align: middle;\n",
       "    }\n",
       "\n",
       "    .dataframe tbody tr th {\n",
       "        vertical-align: top;\n",
       "    }\n",
       "\n",
       "    .dataframe thead th {\n",
       "        text-align: right;\n",
       "    }\n",
       "</style>\n",
       "<table border=\"1\" class=\"dataframe\">\n",
       "  <thead>\n",
       "    <tr style=\"text-align: right;\">\n",
       "      <th></th>\n",
       "      <th>search_keyword</th>\n",
       "      <th>date_created</th>\n",
       "      <th>time_created</th>\n",
       "      <th>writer</th>\n",
       "      <th>is_reply</th>\n",
       "      <th>id</th>\n",
       "      <th>spaced_text</th>\n",
       "    </tr>\n",
       "  </thead>\n",
       "  <tbody>\n",
       "    <tr>\n",
       "      <th>1152309</th>\n",
       "      <td>휴젤</td>\n",
       "      <td>2020-04-29</td>\n",
       "      <td>11:55:10</td>\n",
       "      <td>ㅇㅇ(123.215)</td>\n",
       "      <td>0</td>\n",
       "      <td>241400125127</td>\n",
       "      <td>미국주식보다 한국꺼보면 ㄹㅇ 암걸릴 것 같음 특히 휴젤 저거 아는분이 임원진인데 회...</td>\n",
       "    </tr>\n",
       "    <tr>\n",
       "      <th>1152310</th>\n",
       "      <td>휴젤</td>\n",
       "      <td>2020-04-29</td>\n",
       "      <td>11:56:16</td>\n",
       "      <td>ㅇㄷ(175.223)</td>\n",
       "      <td>1</td>\n",
       "      <td>241400125127</td>\n",
       "      <td>한국 상장회사들중에 ㅂㅅ은곳이 넘 많음...</td>\n",
       "    </tr>\n",
       "    <tr>\n",
       "      <th>1152311</th>\n",
       "      <td>휴젤</td>\n",
       "      <td>2020-04-29</td>\n",
       "      <td>11:56:38</td>\n",
       "      <td>ㅇㅇ(223.33)</td>\n",
       "      <td>1</td>\n",
       "      <td>241400125127</td>\n",
       "      <td>신흥국 회사 투자 망설여지는 게 이거 때문임. 주식시장에 대한 개념이 안 잡혀있음.</td>\n",
       "    </tr>\n",
       "  </tbody>\n",
       "</table>\n",
       "</div>"
      ],
      "text/plain": [
       "        search_keyword date_created time_created       writer  is_reply  \\\n",
       "1152309             휴젤   2020-04-29     11:55:10  ㅇㅇ(123.215)         0   \n",
       "1152310             휴젤   2020-04-29     11:56:16  ㅇㄷ(175.223)         1   \n",
       "1152311             휴젤   2020-04-29     11:56:38   ㅇㅇ(223.33)         1   \n",
       "\n",
       "                   id                                        spaced_text  \n",
       "1152309  241400125127  미국주식보다 한국꺼보면 ㄹㅇ 암걸릴 것 같음 특히 휴젤 저거 아는분이 임원진인데 회...  \n",
       "1152310  241400125127                           한국 상장회사들중에 ㅂㅅ은곳이 넘 많음...  \n",
       "1152311  241400125127     신흥국 회사 투자 망설여지는 게 이거 때문임. 주식시장에 대한 개념이 안 잡혀있음.  "
      ]
     },
     "execution_count": 1,
     "metadata": {},
     "output_type": "execute_result"
    }
   ],
   "source": [
    "# 토크나이징\n",
    "# soynlp와 mecab을 활용하자\n",
    "###############################\n",
    "# 데이터 읽어오기\n",
    "import pandas as pd\n",
    "df = pd.read_csv(\"3_spaced_text.csv\", encoding=\"utf-8\")\n",
    "df.tail(3)"
   ]
  },
  {
   "cell_type": "code",
   "execution_count": 2,
   "id": "cefad268-783c-47d7-84f5-f2e1da0a1e98",
   "metadata": {},
   "outputs": [
    {
     "name": "stdout",
     "output_type": "stream",
     "text": [
      "<class 'pandas.core.frame.DataFrame'>\n",
      "RangeIndex: 1152312 entries, 0 to 1152311\n",
      "Data columns (total 7 columns):\n",
      " #   Column          Non-Null Count    Dtype \n",
      "---  ------          --------------    ----- \n",
      " 0   search_keyword  1152312 non-null  object\n",
      " 1   date_created    1152312 non-null  object\n",
      " 2   time_created    1152312 non-null  object\n",
      " 3   writer          1152312 non-null  object\n",
      " 4   is_reply        1152312 non-null  int64 \n",
      " 5   id              1152312 non-null  int64 \n",
      " 6   spaced_text     1152312 non-null  object\n",
      "dtypes: int64(2), object(5)\n",
      "memory usage: 61.5+ MB\n"
     ]
    }
   ],
   "source": [
    "df.info()"
   ]
  },
  {
   "cell_type": "code",
   "execution_count": null,
   "id": "0032d35f-7471-4c52-ab8a-a1e57ce2062e",
   "metadata": {},
   "outputs": [],
   "source": []
  },
  {
   "cell_type": "code",
   "execution_count": null,
   "id": "73e1013c-d3d7-423c-9d25-eb81a84f3923",
   "metadata": {},
   "outputs": [],
   "source": []
  },
  {
   "cell_type": "code",
   "execution_count": null,
   "id": "740a3bcd-e3cc-451d-b68b-5d1c1f840883",
   "metadata": {},
   "outputs": [],
   "source": []
  }
 ],
 "metadata": {
  "kernelspec": {
   "display_name": "Python 3 (ipykernel)",
   "language": "python",
   "name": "python3"
  },
  "language_info": {
   "codemirror_mode": {
    "name": "ipython",
    "version": 3
   },
   "file_extension": ".py",
   "mimetype": "text/x-python",
   "name": "python",
   "nbconvert_exporter": "python",
   "pygments_lexer": "ipython3",
   "version": "3.8.18"
  }
 },
 "nbformat": 4,
 "nbformat_minor": 5
}
