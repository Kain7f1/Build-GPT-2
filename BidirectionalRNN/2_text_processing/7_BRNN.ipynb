{
 "cells": [
  {
   "cell_type": "markdown",
   "id": "3807c440-7cfc-48cb-89ad-45f293769520",
   "metadata": {},
   "source": [
    "## 7-a. BRNN 모델 구축 계획\n"
   ]
  },
  {
   "cell_type": "markdown",
   "id": "003a52ba-04c0-4366-995e-6842b32c06ae",
   "metadata": {},
   "source": [
    "## 7-b. BRNN 모델 구축"
   ]
  },
  {
   "cell_type": "markdown",
   "id": "37fcff62-285f-439b-adb1-fb8c9fcec7da",
   "metadata": {},
   "source": [
    "### 7-b-1. 임베딩 모델 불러오기"
   ]
  },
  {
   "cell_type": "code",
   "execution_count": 1,
   "id": "1cf1153f-563a-4b8a-bc66-076435b04638",
   "metadata": {},
   "outputs": [
    {
     "name": "stdout",
     "output_type": "stream",
     "text": [
      "WARNING:tensorflow:No training configuration found in the save file, so the model was *not* compiled. Compile it manually.\n"
     ]
    }
   ],
   "source": [
    "from keras.models import load_model\n",
    "\n",
    "# 모델 파일 로드\n",
    "loaded_model = load_model('6_embedding_model.h5')"
   ]
  },
  {
   "cell_type": "markdown",
   "id": "185d6d1e-8755-4975-953f-70a61f49779d",
   "metadata": {},
   "source": [
    "### 7-b-2. BRNN 모델 설계"
   ]
  },
  {
   "cell_type": "code",
   "execution_count": 1,
   "id": "a0bf2d89-1829-4cf2-9e58-aef4ce9d138f",
   "metadata": {},
   "outputs": [
    {
     "name": "stdout",
     "output_type": "stream",
     "text": [
      "WARNING:tensorflow:No training configuration found in the save file, so the model was *not* compiled. Compile it manually.\n",
      "Model: \"model\"\n",
      "_________________________________________________________________\n",
      " Layer (type)                Output Shape              Param #   \n",
      "=================================================================\n",
      " input_1 (InputLayer)        [(None, None)]            0         \n",
      "                                                                 \n",
      " embedding (Embedding)       multiple                  5739400   \n",
      "                                                                 \n",
      " bidirectional (Bidirection  (None, 128)               58880     \n",
      " al)                                                             \n",
      "                                                                 \n",
      " dense (Dense)               (None, 1)                 129       \n",
      "                                                                 \n",
      "=================================================================\n",
      "Total params: 5798409 (22.12 MB)\n",
      "Trainable params: 5798409 (22.12 MB)\n",
      "Non-trainable params: 0 (0.00 Byte)\n",
      "_________________________________________________________________\n"
     ]
    }
   ],
   "source": [
    "from keras.models import load_model, Model\n",
    "from keras.layers import Input, Bidirectional, LSTM, Dense\n",
    "\n",
    "# 저장된 임베딩 모델 불러오기\n",
    "embedding_model = load_model('6_embedding_model.h5')\n",
    "\n",
    "# 임베딩 레이어 추출\n",
    "embedding_layer = embedding_model.layers[0]\n",
    "\n",
    "# 새로운 모델 구축을 위한 입력 레이어 정의\n",
    "input_layer = Input(shape=(None,))  # None은 시퀀스 길이가 가변적임을 의미\n",
    "\n",
    "# 임베딩 레이어와 BRNN 레이어 추가\n",
    "x = embedding_layer(input_layer)\n",
    "x = Bidirectional(LSTM(64))(x)  # LSTM 유닛 수는 예시로 64를 사용\n",
    "\n",
    "# 출력 레이어 추가 (예시: 이진 분류)\n",
    "output_layer = Dense(1, activation='sigmoid')(x)\n",
    "\n",
    "# 최종 모델 구성\n",
    "model = Model(inputs=input_layer, outputs=output_layer)\n",
    "\n",
    "# 모델 컴파일\n",
    "model.compile(optimizer='adam', loss='binary_crossentropy', metrics=['accuracy'])\n",
    "\n",
    "# 모델 요약 출력\n",
    "model.summary()"
   ]
  },
  {
   "cell_type": "markdown",
   "id": "578ec444-18b2-4ca4-8bd8-39b67f943dc3",
   "metadata": {},
   "source": [
    "### 7-b-3. 데이터 분할"
   ]
  },
  {
   "cell_type": "code",
   "execution_count": 2,
   "id": "59808416-4b1f-425c-9ec5-78bcfdf12cdb",
   "metadata": {},
   "outputs": [
    {
     "ename": "SyntaxError",
     "evalue": "invalid syntax (1713892889.py, line 5)",
     "output_type": "error",
     "traceback": [
      "\u001b[1;36m  Cell \u001b[1;32mIn[2], line 5\u001b[1;36m\u001b[0m\n\u001b[1;33m    X = # 입력 데이터\u001b[0m\n\u001b[1;37m        ^\u001b[0m\n\u001b[1;31mSyntaxError\u001b[0m\u001b[1;31m:\u001b[0m invalid syntax\n"
     ]
    }
   ],
   "source": [
    "from sklearn.model_selection import train_test_split\n",
    "\n",
    "# 예시 데이터셋 (X: 입력 데이터, y: 레이블)\n",
    "# X, y를 실제 데이터로 대체해야 합니다.\n",
    "X = # 입력 데이터\n",
    "y = # 레이블 데이터\n",
    "\n",
    "# 데이터 분할 (훈련 데이터와 검증 데이터)\n",
    "X_train, X_val, y_train, y_val = train_test_split(X, y, test_size=0.2, random_state=42)\n"
   ]
  },
  {
   "cell_type": "code",
   "execution_count": null,
   "id": "baa2ab66-514c-4b80-b45d-05c3a78e0b5e",
   "metadata": {},
   "outputs": [],
   "source": []
  },
  {
   "cell_type": "code",
   "execution_count": 3,
   "id": "049eb79c-4c03-40ec-854b-fb657457a506",
   "metadata": {},
   "outputs": [
    {
     "name": "stdout",
     "output_type": "stream",
     "text": [
      "WARNING:tensorflow:No training configuration found in the save file, so the model was *not* compiled. Compile it manually.\n"
     ]
    },
    {
     "data": {
      "text/plain": [
       "(114788, 50)"
      ]
     },
     "execution_count": 3,
     "metadata": {},
     "output_type": "execute_result"
    }
   ],
   "source": [
    "from keras.models import load_model\n",
    "\n",
    "# 모델 파일 경로\n",
    "model_file_path = '6_embedding_model.h5'\n",
    "\n",
    "# 모델 로드\n",
    "embedding_model = load_model(model_file_path)\n",
    "\n",
    "# 임베딩 레이어의 가중치 확인\n",
    "embedding_weights = embedding_model.layers[0].get_weights()[0]\n",
    "embedding_weights.shape # 임베딩 차원과 단어 사전 크기 확인"
   ]
  },
  {
   "cell_type": "code",
   "execution_count": null,
   "id": "5ec358a3-0382-4b30-b48e-24c633a471db",
   "metadata": {},
   "outputs": [],
   "source": [
    "import pandas as pd\n",
    "from collections import Counter\n",
    "\n",
    "# 파일 로드\n",
    "file_path = '5_tokenized_text.csv'\n",
    "df = pd.read_csv(file_path)\n",
    "df.tail()"
   ]
  },
  {
   "cell_type": "code",
   "execution_count": null,
   "id": "947f01eb-0db5-4999-80a3-9d8e5739a1af",
   "metadata": {},
   "outputs": [],
   "source": [
    "import pandas as pd\n",
    "import itertools\n",
    "\n",
    "# 파일 로드\n",
    "df = pd.read_csv(file_path)\n",
    "\n",
    "# 각 행의 'tokens' 칼럼을 리스트로 변환\n",
    "token_lists = df['tokens'].apply(eval)\n",
    "\n",
    "# itertools.chain.from_iterable를 사용하여 모든 토큰을 하나의 리스트로 결합\n",
    "all_tokens = list(itertools.chain.from_iterable(token_lists))\n"
   ]
  },
  {
   "cell_type": "code",
   "execution_count": null,
   "id": "8c9d5e5f-f590-439d-bb5b-b9d8eebf84e4",
   "metadata": {},
   "outputs": [],
   "source": [
    "# 빈도수 계산\n",
    "token_counts = Counter(all_tokens)\n",
    "\n",
    "# 상위 20,000개 단어 선택\n",
    "top_tokens = set([token for token, count in token_counts.most_common(20000)])\n",
    "\n",
    "# '<UNK>' 토큰으로 대체\n",
    "df['tokens_reduced'] = df['tokens'].apply(lambda tokens: [token if token in top_tokens else '<UNK>' for token in eval(tokens)])\n",
    "\n",
    "# 결과 확인\n",
    "df.head()"
   ]
  },
  {
   "cell_type": "code",
   "execution_count": null,
   "id": "c20cbfa0-7a56-4c5a-8a7a-9254b84ec0f6",
   "metadata": {},
   "outputs": [],
   "source": []
  }
 ],
 "metadata": {
  "kernelspec": {
   "display_name": "Python 3 (ipykernel)",
   "language": "python",
   "name": "python3"
  },
  "language_info": {
   "codemirror_mode": {
    "name": "ipython",
    "version": 3
   },
   "file_extension": ".py",
   "mimetype": "text/x-python",
   "name": "python",
   "nbconvert_exporter": "python",
   "pygments_lexer": "ipython3",
   "version": "3.8.18"
  }
 },
 "nbformat": 4,
 "nbformat_minor": 5
}
