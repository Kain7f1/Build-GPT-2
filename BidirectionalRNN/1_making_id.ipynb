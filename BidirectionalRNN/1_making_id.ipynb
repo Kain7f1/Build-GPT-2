{
 "cells": [
  {
   "cell_type": "markdown",
   "id": "323dd523-2884-417b-a68b-02994be28446",
   "metadata": {},
   "source": [
    "# 1. id 칼럼 만들기\n"
   ]
  },
  {
   "cell_type": "markdown",
   "id": "ea1a8fff-df86-4b1e-b114-77837fa787e5",
   "metadata": {},
   "source": [
    "## 파일 불러오기"
   ]
  },
  {
   "cell_type": "code",
   "execution_count": 2,
   "id": "a642fa64-0d3e-485f-af9b-ef71ab9925b4",
   "metadata": {},
   "outputs": [
    {
     "data": {
      "text/html": [
       "<div>\n",
       "<style scoped>\n",
       "    .dataframe tbody tr th:only-of-type {\n",
       "        vertical-align: middle;\n",
       "    }\n",
       "\n",
       "    .dataframe tbody tr th {\n",
       "        vertical-align: top;\n",
       "    }\n",
       "\n",
       "    .dataframe thead th {\n",
       "        text-align: right;\n",
       "    }\n",
       "</style>\n",
       "<table border=\"1\" class=\"dataframe\">\n",
       "  <thead>\n",
       "    <tr style=\"text-align: right;\">\n",
       "      <th></th>\n",
       "      <th>community</th>\n",
       "      <th>gall_id</th>\n",
       "      <th>search_keyword</th>\n",
       "      <th>number</th>\n",
       "      <th>date_created</th>\n",
       "      <th>time_created</th>\n",
       "      <th>writer</th>\n",
       "      <th>is_reply</th>\n",
       "      <th>text</th>\n",
       "    </tr>\n",
       "  </thead>\n",
       "  <tbody>\n",
       "    <tr>\n",
       "      <th>0</th>\n",
       "      <td>dcinside</td>\n",
       "      <td>snp500</td>\n",
       "      <td>jyp</td>\n",
       "      <td>746844</td>\n",
       "      <td>2023-06-13</td>\n",
       "      <td>12:50:42</td>\n",
       "      <td>ㅇㅇ</td>\n",
       "      <td>0</td>\n",
       "      <td>jyp가반년만에2배가올랏네 근디보니는인적자원위주로하는사업은먼가ㅂㄹ다걍제조업이조음..</td>\n",
       "    </tr>\n",
       "    <tr>\n",
       "      <th>1</th>\n",
       "      <td>dcinside</td>\n",
       "      <td>snp500</td>\n",
       "      <td>jyp</td>\n",
       "      <td>730087</td>\n",
       "      <td>2023-05-16</td>\n",
       "      <td>17:52:40</td>\n",
       "      <td>ㅇㅇ(118.34)</td>\n",
       "      <td>0</td>\n",
       "      <td>야 개보지년들아 JYP 주가 봤냐.. 미쳣다 지금... 개잡주 오르는건 그러려니 하...</td>\n",
       "    </tr>\n",
       "    <tr>\n",
       "      <th>2</th>\n",
       "      <td>dcinside</td>\n",
       "      <td>snp500</td>\n",
       "      <td>jyp</td>\n",
       "      <td>730087</td>\n",
       "      <td>2023-05-16</td>\n",
       "      <td>17:52:48</td>\n",
       "      <td>ㅇㅇ(118.34)</td>\n",
       "      <td>1</td>\n",
       "      <td>ㅠㅠ</td>\n",
       "    </tr>\n",
       "  </tbody>\n",
       "</table>\n",
       "</div>"
      ],
      "text/plain": [
       "  community gall_id search_keyword  number date_created time_created  \\\n",
       "0  dcinside  snp500            jyp  746844   2023-06-13     12:50:42   \n",
       "1  dcinside  snp500            jyp  730087   2023-05-16     17:52:40   \n",
       "2  dcinside  snp500            jyp  730087   2023-05-16     17:52:48   \n",
       "\n",
       "       writer  is_reply                                               text  \n",
       "0          ㅇㅇ         0     jyp가반년만에2배가올랏네 근디보니는인적자원위주로하는사업은먼가ㅂㄹ다걍제조업이조음..  \n",
       "1  ㅇㅇ(118.34)         0  야 개보지년들아 JYP 주가 봤냐.. 미쳣다 지금... 개잡주 오르는건 그러려니 하...  \n",
       "2  ㅇㅇ(118.34)         1                                                 ㅠㅠ  "
      ]
     },
     "execution_count": 2,
     "metadata": {},
     "output_type": "execute_result"
    }
   ],
   "source": [
    "import pandas as pd\n",
    "file_name = \"1_crawled_text.csv\"\n",
    "df = pd.read_csv(file_name, encoding=\"utf-8\")\n",
    "df.head(3)"
   ]
  },
  {
   "cell_type": "code",
   "execution_count": 22,
   "id": "589bdd8f-85ff-4338-a3a3-8339e4c50e47",
   "metadata": {},
   "outputs": [
    {
     "name": "stdout",
     "output_type": "stream",
     "text": [
      "<class 'pandas.core.frame.DataFrame'>\n",
      "RangeIndex: 1153474 entries, 0 to 1153473\n",
      "Data columns (total 9 columns):\n",
      " #   Column          Non-Null Count    Dtype \n",
      "---  ------          --------------    ----- \n",
      " 0   community       1153474 non-null  object\n",
      " 1   gall_id         1153474 non-null  object\n",
      " 2   search_keyword  1153474 non-null  object\n",
      " 3   number          1153474 non-null  int64 \n",
      " 4   date_created    1153474 non-null  object\n",
      " 5   time_created    1153474 non-null  object\n",
      " 6   writer          1153474 non-null  object\n",
      " 7   is_reply        1153474 non-null  int64 \n",
      " 8   text            1153474 non-null  object\n",
      "dtypes: int64(2), object(7)\n",
      "memory usage: 79.2+ MB\n"
     ]
    }
   ],
   "source": [
    "df.info()"
   ]
  },
  {
   "cell_type": "code",
   "execution_count": 3,
   "id": "32d61f96-7ab8-4e01-8b3f-5301328da705",
   "metadata": {},
   "outputs": [
    {
     "data": {
      "text/plain": [
       "Index(['community', 'gall_id', 'search_keyword', 'number', 'date_created',\n",
       "       'time_created', 'writer', 'is_reply', 'text'],\n",
       "      dtype='object')"
      ]
     },
     "execution_count": 3,
     "metadata": {},
     "output_type": "execute_result"
    }
   ],
   "source": [
    "# 칼럼 확인\n",
    "df.columns"
   ]
  },
  {
   "cell_type": "markdown",
   "id": "4e7ae5e3-6272-4705-909b-1a102763f182",
   "metadata": {},
   "source": [
    "## id 칼럼 생성 프로세스\n",
    "* unique한 id를 만드는데 필요한 칼럼 : gall_id, search_keyword, number\n",
    "* gall_id : 2자리 숫자 문자열\n",
    "* search_keyword : 2자리 숫자 문자열\n",
    "* number : 8자리 숫자 문자열\n",
    "---\n",
    "* id : 12자리 숫자 문자열. id = 'search_keyword' + 'gall_id' + 'number'"
   ]
  },
  {
   "cell_type": "markdown",
   "id": "2e236ede-bbc7-4b3e-b671-005ea28ff3e1",
   "metadata": {},
   "source": [
    "### gall_id -> 2자리 숫자 문자열"
   ]
  },
  {
   "cell_type": "code",
   "execution_count": 37,
   "id": "9c68c7be-7cfd-474f-bdb7-a988feb5166f",
   "metadata": {},
   "outputs": [
    {
     "data": {
      "text/plain": [
       "30"
      ]
     },
     "execution_count": 37,
     "metadata": {},
     "output_type": "execute_result"
    }
   ],
   "source": [
    "# gall_id 2자리 숫자 문자열 만들기\n",
    "unique_gall_id_list = df['gall_id'].unique().tolist()\n",
    "len(unique_gall_id_list)"
   ]
  },
  {
   "cell_type": "code",
   "execution_count": 45,
   "id": "04098bfb-d8fd-439f-861a-d059b16ff55f",
   "metadata": {
    "scrolled": true
   },
   "outputs": [
    {
     "data": {
      "text/plain": [
       "{'snp500': '01',\n",
       " 'koreafutures': '02',\n",
       " 'finance': '03',\n",
       " 'nasdaq': '04',\n",
       " 'dow100': '05',\n",
       " 'stockus': '06',\n",
       " 'jusik': '07',\n",
       " 'jaetae': '08',\n",
       " 'neostock': '09',\n",
       " 'securities': '10',\n",
       " 'kospi': '11',\n",
       " 'of': '12',\n",
       " 'kuya': '13',\n",
       " 'tenbagger': '14',\n",
       " 'smow': '15',\n",
       " 'immovables': '16',\n",
       " 'alliescon': '17',\n",
       " 'minjudang': '18',\n",
       " 'newconservativeparty': '19',\n",
       " 'csahn': '20',\n",
       " 'ancheolsu': '21',\n",
       " 'leejaemyung': '22',\n",
       " 'kids': '23',\n",
       " 'centristpolitics': '24',\n",
       " 'energystock': '25',\n",
       " 'superconductor': '26',\n",
       " 'bd': '27',\n",
       " 'heidel': '28',\n",
       " 'lostark': '29',\n",
       " 'aoegame': '30'}"
      ]
     },
     "execution_count": 45,
     "metadata": {},
     "output_type": "execute_result"
    }
   ],
   "source": [
    "gall_id_dict = {}\n",
    "for index, value in enumerate(unique_gall_id_list):\n",
    "    number_str = str(index + 1).zfill(2)  # 숫자를 문자열로 변환\n",
    "    gall_id_dict[value] = number_str\n",
    "gall_id_dict"
   ]
  },
  {
   "cell_type": "markdown",
   "id": "b7b03214-087c-4a8f-9699-fdd7a23fce44",
   "metadata": {},
   "source": [
    "### search_keyword -> 2자리 숫자 문자열"
   ]
  },
  {
   "cell_type": "code",
   "execution_count": 66,
   "id": "40edc425-39a0-4122-86f6-2eeb5e223864",
   "metadata": {},
   "outputs": [
    {
     "name": "stdout",
     "output_type": "stream",
     "text": [
      "['JYP', 'LG화학', '금양', '기아', '넷마블', '셀트리온', '아모레', '안랩', '에스엠', '에코프로', 'LG에너지솔루션', '엔씨소프트', '엘앤에프', '이마트', '카카오', '컴투스', '코스맥스', '한국콜마', '펄어비스', '피엔티', 'SK하이닉스', '하이브', '현대차', '휴젤']\n",
      "24\n"
     ]
    }
   ],
   "source": [
    "# search_keyword 2자리 숫자 문자열 만들기\n",
    "unique_search_keyword_list = df['search_keyword'].unique().tolist()\n",
    "print(unique_search_keyword_list)\n",
    "print(len(unique_search_keyword_list))"
   ]
  },
  {
   "cell_type": "code",
   "execution_count": 60,
   "id": "765ceb34-a94f-485a-9ade-b98f4206af89",
   "metadata": {},
   "outputs": [],
   "source": [
    "# (lg화학 & 엘화, 에너지솔 & 엔솔, 하이닉스 & 하닉) 의 키워드를 통일한다.\n",
    "# '콜마', '에코', '엔씨', '셀트' 같이 줄여서 검색한 것도 원래 이름으로 수정하자.\n",
    "\n",
    "change_dict = {\n",
    "    '하닉': 'SK하이닉스', \n",
    "    '하이닉스': 'SK하이닉스', \n",
    "    '엘화': 'LG화학', \n",
    "    'lg화학': 'LG화학',\n",
    "    '엔솔': 'LG에너지솔루션',\n",
    "    '에너지솔': 'LG에너지솔루션',\n",
    "    '콜마': '한국콜마',\n",
    "    '에코': '에코프로',\n",
    "    '엔씨': '엔씨소프트',\n",
    "    '셀트': '셀트리온',\n",
    "    'jyp': 'JYP'\n",
    "}\n",
    "df['search_keyword'] = df['search_keyword'].replace(change_dict)"
   ]
  },
  {
   "cell_type": "code",
   "execution_count": 65,
   "id": "8303e5cd-682e-4e1a-a7f5-d87cb2bf1e8b",
   "metadata": {},
   "outputs": [
    {
     "data": {
      "text/plain": [
       "{'JYP': '01',\n",
       " 'LG화학': '02',\n",
       " '금양': '03',\n",
       " '기아': '04',\n",
       " '넷마블': '05',\n",
       " '셀트리온': '06',\n",
       " '아모레': '07',\n",
       " '안랩': '08',\n",
       " '에스엠': '09',\n",
       " '에코프로': '10',\n",
       " 'LG에너지솔루션': '11',\n",
       " '엔씨소프트': '12',\n",
       " '엘앤에프': '13',\n",
       " '이마트': '14',\n",
       " '카카오': '15',\n",
       " '컴투스': '16',\n",
       " '코스맥스': '17',\n",
       " '한국콜마': '18',\n",
       " '펄어비스': '19',\n",
       " '피엔티': '20',\n",
       " 'SK하이닉스': '21',\n",
       " '하이브': '22',\n",
       " '현대차': '23',\n",
       " '휴젤': '24'}"
      ]
     },
     "execution_count": 65,
     "metadata": {},
     "output_type": "execute_result"
    }
   ],
   "source": [
    "search_keyword_dict = {}\n",
    "for index, value in enumerate(unique_search_keyword_list):\n",
    "    number_str = str(index + 1).zfill(2)  # 숫자를 문자열로 변환\n",
    "    search_keyword_dict[value] = number_str\n",
    "search_keyword_dict"
   ]
  },
  {
   "cell_type": "code",
   "execution_count": 77,
   "id": "a8c9ed3f-f7e4-44e4-8f88-9587bdd12d9a",
   "metadata": {
    "scrolled": true
   },
   "outputs": [
    {
     "data": {
      "text/html": [
       "<div>\n",
       "<style scoped>\n",
       "    .dataframe tbody tr th:only-of-type {\n",
       "        vertical-align: middle;\n",
       "    }\n",
       "\n",
       "    .dataframe tbody tr th {\n",
       "        vertical-align: top;\n",
       "    }\n",
       "\n",
       "    .dataframe thead th {\n",
       "        text-align: right;\n",
       "    }\n",
       "</style>\n",
       "<table border=\"1\" class=\"dataframe\">\n",
       "  <thead>\n",
       "    <tr style=\"text-align: right;\">\n",
       "      <th></th>\n",
       "      <th>community</th>\n",
       "      <th>gall_id</th>\n",
       "      <th>search_keyword</th>\n",
       "      <th>number</th>\n",
       "      <th>date_created</th>\n",
       "      <th>time_created</th>\n",
       "      <th>writer</th>\n",
       "      <th>is_reply</th>\n",
       "      <th>text</th>\n",
       "      <th>number_str</th>\n",
       "      <th>gall_id_mapped</th>\n",
       "      <th>search_keyword_mapped</th>\n",
       "    </tr>\n",
       "  </thead>\n",
       "  <tbody>\n",
       "    <tr>\n",
       "      <th>1153469</th>\n",
       "      <td>dcinside</td>\n",
       "      <td>tenbagger</td>\n",
       "      <td>휴젤</td>\n",
       "      <td>137263</td>\n",
       "      <td>2020-04-30</td>\n",
       "      <td>20:08:57</td>\n",
       "      <td>사이버경찰</td>\n",
       "      <td>1</td>\n",
       "      <td>갤 잘못온듯</td>\n",
       "      <td>00137263</td>\n",
       "      <td>14</td>\n",
       "      <td>24</td>\n",
       "    </tr>\n",
       "    <tr>\n",
       "      <th>1153470</th>\n",
       "      <td>dcinside</td>\n",
       "      <td>tenbagger</td>\n",
       "      <td>휴젤</td>\n",
       "      <td>137263</td>\n",
       "      <td>2020-04-30</td>\n",
       "      <td>20:09:36</td>\n",
       "      <td>윤연준(211.108)</td>\n",
       "      <td>1</td>\n",
       "      <td>ccl 지금 시총 반도안되는 개잡주들 천지인즛</td>\n",
       "      <td>00137263</td>\n",
       "      <td>14</td>\n",
       "      <td>24</td>\n",
       "    </tr>\n",
       "    <tr>\n",
       "      <th>1153471</th>\n",
       "      <td>dcinside</td>\n",
       "      <td>tenbagger</td>\n",
       "      <td>휴젤</td>\n",
       "      <td>125127</td>\n",
       "      <td>2020-04-29</td>\n",
       "      <td>11:55:10</td>\n",
       "      <td>ㅇㅇ(123.215)</td>\n",
       "      <td>0</td>\n",
       "      <td>미국주식보다 한국꺼보면 ㄹㅇ 암걸릴 것 같음 특히 휴젤 저거 아는분이 임원진인데 회...</td>\n",
       "      <td>00125127</td>\n",
       "      <td>14</td>\n",
       "      <td>24</td>\n",
       "    </tr>\n",
       "    <tr>\n",
       "      <th>1153472</th>\n",
       "      <td>dcinside</td>\n",
       "      <td>tenbagger</td>\n",
       "      <td>휴젤</td>\n",
       "      <td>125127</td>\n",
       "      <td>2020-04-29</td>\n",
       "      <td>11:56:16</td>\n",
       "      <td>ㅇㄷ(175.223)</td>\n",
       "      <td>1</td>\n",
       "      <td>한국 상장회사들중에 ㅂㅅ같은곳이 넘 많음...</td>\n",
       "      <td>00125127</td>\n",
       "      <td>14</td>\n",
       "      <td>24</td>\n",
       "    </tr>\n",
       "    <tr>\n",
       "      <th>1153473</th>\n",
       "      <td>dcinside</td>\n",
       "      <td>tenbagger</td>\n",
       "      <td>휴젤</td>\n",
       "      <td>125127</td>\n",
       "      <td>2020-04-29</td>\n",
       "      <td>11:56:38</td>\n",
       "      <td>ㅇㅇ(223.33)</td>\n",
       "      <td>1</td>\n",
       "      <td>신흥국 회사투자 망설여지는 게 이거 때문임. 주식시장에 대한 개념이 안 잡혀있음.</td>\n",
       "      <td>00125127</td>\n",
       "      <td>14</td>\n",
       "      <td>24</td>\n",
       "    </tr>\n",
       "  </tbody>\n",
       "</table>\n",
       "</div>"
      ],
      "text/plain": [
       "        community    gall_id search_keyword  number date_created time_created  \\\n",
       "1153469  dcinside  tenbagger             휴젤  137263   2020-04-30     20:08:57   \n",
       "1153470  dcinside  tenbagger             휴젤  137263   2020-04-30     20:09:36   \n",
       "1153471  dcinside  tenbagger             휴젤  125127   2020-04-29     11:55:10   \n",
       "1153472  dcinside  tenbagger             휴젤  125127   2020-04-29     11:56:16   \n",
       "1153473  dcinside  tenbagger             휴젤  125127   2020-04-29     11:56:38   \n",
       "\n",
       "               writer  is_reply  \\\n",
       "1153469         사이버경찰         1   \n",
       "1153470  윤연준(211.108)         1   \n",
       "1153471   ㅇㅇ(123.215)         0   \n",
       "1153472   ㅇㄷ(175.223)         1   \n",
       "1153473    ㅇㅇ(223.33)         1   \n",
       "\n",
       "                                                      text number_str  \\\n",
       "1153469                                             갤 잘못온듯   00137263   \n",
       "1153470                          ccl 지금 시총 반도안되는 개잡주들 천지인즛   00137263   \n",
       "1153471  미국주식보다 한국꺼보면 ㄹㅇ 암걸릴 것 같음 특히 휴젤 저거 아는분이 임원진인데 회...   00125127   \n",
       "1153472                          한국 상장회사들중에 ㅂㅅ같은곳이 넘 많음...   00125127   \n",
       "1153473      신흥국 회사투자 망설여지는 게 이거 때문임. 주식시장에 대한 개념이 안 잡혀있음.   00125127   \n",
       "\n",
       "        gall_id_mapped search_keyword_mapped  \n",
       "1153469             14                    24  \n",
       "1153470             14                    24  \n",
       "1153471             14                    24  \n",
       "1153472             14                    24  \n",
       "1153473             14                    24  "
      ]
     },
     "execution_count": 77,
     "metadata": {},
     "output_type": "execute_result"
    }
   ],
   "source": [
    "# gall_id, search_keyword 2자리 숫자 문자열 칼럼 만들기\n",
    "df['gall_id_mapped'] = df['gall_id'].map(gall_id_dict)\n",
    "df['search_keyword_mapped'] = df['search_keyword'].map(search_keyword_dict)\n",
    "df.tail() "
   ]
  },
  {
   "cell_type": "markdown",
   "id": "cc40d1ab-6830-4e36-b158-fca47bff18cf",
   "metadata": {},
   "source": [
    "### number -> 8자리 숫자 문자열"
   ]
  },
  {
   "cell_type": "code",
   "execution_count": 74,
   "id": "a2ed2b7c-9657-4800-8af1-f6f89f56f43a",
   "metadata": {},
   "outputs": [
    {
     "data": {
      "text/plain": [
       "24738624"
      ]
     },
     "execution_count": 74,
     "metadata": {},
     "output_type": "execute_result"
    }
   ],
   "source": [
    "# number 칼럼 가공하기\n",
    "max_value = df['number'].max()\n",
    "max_value  # 가장 큰 숫자가 8자리 이므로, 8자리 문자열로 바꾼다"
   ]
  },
  {
   "cell_type": "code",
   "execution_count": 75,
   "id": "4d0e917d-240a-44f6-91cc-5840ab9eee76",
   "metadata": {
    "scrolled": true
   },
   "outputs": [
    {
     "data": {
      "text/html": [
       "<div>\n",
       "<style scoped>\n",
       "    .dataframe tbody tr th:only-of-type {\n",
       "        vertical-align: middle;\n",
       "    }\n",
       "\n",
       "    .dataframe tbody tr th {\n",
       "        vertical-align: top;\n",
       "    }\n",
       "\n",
       "    .dataframe thead th {\n",
       "        text-align: right;\n",
       "    }\n",
       "</style>\n",
       "<table border=\"1\" class=\"dataframe\">\n",
       "  <thead>\n",
       "    <tr style=\"text-align: right;\">\n",
       "      <th></th>\n",
       "      <th>community</th>\n",
       "      <th>gall_id</th>\n",
       "      <th>search_keyword</th>\n",
       "      <th>number</th>\n",
       "      <th>date_created</th>\n",
       "      <th>time_created</th>\n",
       "      <th>writer</th>\n",
       "      <th>is_reply</th>\n",
       "      <th>text</th>\n",
       "      <th>number_str</th>\n",
       "    </tr>\n",
       "  </thead>\n",
       "  <tbody>\n",
       "    <tr>\n",
       "      <th>0</th>\n",
       "      <td>dcinside</td>\n",
       "      <td>snp500</td>\n",
       "      <td>JYP</td>\n",
       "      <td>746844</td>\n",
       "      <td>2023-06-13</td>\n",
       "      <td>12:50:42</td>\n",
       "      <td>ㅇㅇ</td>\n",
       "      <td>0</td>\n",
       "      <td>jyp가반년만에2배가올랏네 근디보니는인적자원위주로하는사업은먼가ㅂㄹ다걍제조업이조음..</td>\n",
       "      <td>00746844</td>\n",
       "    </tr>\n",
       "    <tr>\n",
       "      <th>1</th>\n",
       "      <td>dcinside</td>\n",
       "      <td>snp500</td>\n",
       "      <td>JYP</td>\n",
       "      <td>730087</td>\n",
       "      <td>2023-05-16</td>\n",
       "      <td>17:52:40</td>\n",
       "      <td>ㅇㅇ(118.34)</td>\n",
       "      <td>0</td>\n",
       "      <td>야 개보지년들아 JYP 주가 봤냐.. 미쳣다 지금... 개잡주 오르는건 그러려니 하...</td>\n",
       "      <td>00730087</td>\n",
       "    </tr>\n",
       "    <tr>\n",
       "      <th>2</th>\n",
       "      <td>dcinside</td>\n",
       "      <td>snp500</td>\n",
       "      <td>JYP</td>\n",
       "      <td>730087</td>\n",
       "      <td>2023-05-16</td>\n",
       "      <td>17:52:48</td>\n",
       "      <td>ㅇㅇ(118.34)</td>\n",
       "      <td>1</td>\n",
       "      <td>ㅠㅠ</td>\n",
       "      <td>00730087</td>\n",
       "    </tr>\n",
       "    <tr>\n",
       "      <th>3</th>\n",
       "      <td>dcinside</td>\n",
       "      <td>snp500</td>\n",
       "      <td>JYP</td>\n",
       "      <td>730087</td>\n",
       "      <td>2023-05-16</td>\n",
       "      <td>18:04:04</td>\n",
       "      <td>ㅇㅇ(203.227)</td>\n",
       "      <td>1</td>\n",
       "      <td>ㅠㅠ</td>\n",
       "      <td>00730087</td>\n",
       "    </tr>\n",
       "    <tr>\n",
       "      <th>4</th>\n",
       "      <td>dcinside</td>\n",
       "      <td>snp500</td>\n",
       "      <td>JYP</td>\n",
       "      <td>714904</td>\n",
       "      <td>2023-04-17</td>\n",
       "      <td>22:00:45</td>\n",
       "      <td>설묘.</td>\n",
       "      <td>0</td>\n",
       "      <td>니들 jyp 어케 생각해? ㄹㅇ 개미 너무 많이 붙는거 같은데</td>\n",
       "      <td>00714904</td>\n",
       "    </tr>\n",
       "  </tbody>\n",
       "</table>\n",
       "</div>"
      ],
      "text/plain": [
       "  community gall_id search_keyword  number date_created time_created  \\\n",
       "0  dcinside  snp500            JYP  746844   2023-06-13     12:50:42   \n",
       "1  dcinside  snp500            JYP  730087   2023-05-16     17:52:40   \n",
       "2  dcinside  snp500            JYP  730087   2023-05-16     17:52:48   \n",
       "3  dcinside  snp500            JYP  730087   2023-05-16     18:04:04   \n",
       "4  dcinside  snp500            JYP  714904   2023-04-17     22:00:45   \n",
       "\n",
       "        writer  is_reply                                               text  \\\n",
       "0           ㅇㅇ         0     jyp가반년만에2배가올랏네 근디보니는인적자원위주로하는사업은먼가ㅂㄹ다걍제조업이조음..   \n",
       "1   ㅇㅇ(118.34)         0  야 개보지년들아 JYP 주가 봤냐.. 미쳣다 지금... 개잡주 오르는건 그러려니 하...   \n",
       "2   ㅇㅇ(118.34)         1                                                 ㅠㅠ   \n",
       "3  ㅇㅇ(203.227)         1                                                 ㅠㅠ   \n",
       "4          설묘.         0                 니들 jyp 어케 생각해? ㄹㅇ 개미 너무 많이 붙는거 같은데   \n",
       "\n",
       "  number_str  \n",
       "0   00746844  \n",
       "1   00730087  \n",
       "2   00730087  \n",
       "3   00730087  \n",
       "4   00714904  "
      ]
     },
     "execution_count": 75,
     "metadata": {},
     "output_type": "execute_result"
    }
   ],
   "source": [
    "# number를 8자리 문자열로 만믈기\n",
    "df['number_str'] = df['number'].apply(lambda x: str(x).zfill(8))\n",
    "df.head() "
   ]
  },
  {
   "cell_type": "markdown",
   "id": "b309b5d7-a2aa-4d6b-ab3c-a22bd8892f04",
   "metadata": {},
   "source": [
    "### id 칼럼 생성"
   ]
  },
  {
   "cell_type": "code",
   "execution_count": 81,
   "id": "26bad340-4873-422e-ac49-7e4f727773f9",
   "metadata": {
    "scrolled": true
   },
   "outputs": [
    {
     "data": {
      "text/html": [
       "<div>\n",
       "<style scoped>\n",
       "    .dataframe tbody tr th:only-of-type {\n",
       "        vertical-align: middle;\n",
       "    }\n",
       "\n",
       "    .dataframe tbody tr th {\n",
       "        vertical-align: top;\n",
       "    }\n",
       "\n",
       "    .dataframe thead th {\n",
       "        text-align: right;\n",
       "    }\n",
       "</style>\n",
       "<table border=\"1\" class=\"dataframe\">\n",
       "  <thead>\n",
       "    <tr style=\"text-align: right;\">\n",
       "      <th></th>\n",
       "      <th>community</th>\n",
       "      <th>gall_id</th>\n",
       "      <th>search_keyword</th>\n",
       "      <th>number</th>\n",
       "      <th>date_created</th>\n",
       "      <th>time_created</th>\n",
       "      <th>writer</th>\n",
       "      <th>is_reply</th>\n",
       "      <th>text</th>\n",
       "      <th>number_str</th>\n",
       "      <th>gall_id_mapped</th>\n",
       "      <th>search_keyword_mapped</th>\n",
       "      <th>id</th>\n",
       "    </tr>\n",
       "  </thead>\n",
       "  <tbody>\n",
       "    <tr>\n",
       "      <th>0</th>\n",
       "      <td>dcinside</td>\n",
       "      <td>snp500</td>\n",
       "      <td>JYP</td>\n",
       "      <td>746844</td>\n",
       "      <td>2023-06-13</td>\n",
       "      <td>12:50:42</td>\n",
       "      <td>ㅇㅇ</td>\n",
       "      <td>0</td>\n",
       "      <td>jyp가반년만에2배가올랏네 근디보니는인적자원위주로하는사업은먼가ㅂㄹ다걍제조업이조음..</td>\n",
       "      <td>00746844</td>\n",
       "      <td>01</td>\n",
       "      <td>01</td>\n",
       "      <td>010100746844</td>\n",
       "    </tr>\n",
       "    <tr>\n",
       "      <th>1</th>\n",
       "      <td>dcinside</td>\n",
       "      <td>snp500</td>\n",
       "      <td>JYP</td>\n",
       "      <td>730087</td>\n",
       "      <td>2023-05-16</td>\n",
       "      <td>17:52:40</td>\n",
       "      <td>ㅇㅇ(118.34)</td>\n",
       "      <td>0</td>\n",
       "      <td>야 개보지년들아 JYP 주가 봤냐.. 미쳣다 지금... 개잡주 오르는건 그러려니 하...</td>\n",
       "      <td>00730087</td>\n",
       "      <td>01</td>\n",
       "      <td>01</td>\n",
       "      <td>010100730087</td>\n",
       "    </tr>\n",
       "    <tr>\n",
       "      <th>2</th>\n",
       "      <td>dcinside</td>\n",
       "      <td>snp500</td>\n",
       "      <td>JYP</td>\n",
       "      <td>730087</td>\n",
       "      <td>2023-05-16</td>\n",
       "      <td>17:52:48</td>\n",
       "      <td>ㅇㅇ(118.34)</td>\n",
       "      <td>1</td>\n",
       "      <td>ㅠㅠ</td>\n",
       "      <td>00730087</td>\n",
       "      <td>01</td>\n",
       "      <td>01</td>\n",
       "      <td>010100730087</td>\n",
       "    </tr>\n",
       "    <tr>\n",
       "      <th>3</th>\n",
       "      <td>dcinside</td>\n",
       "      <td>snp500</td>\n",
       "      <td>JYP</td>\n",
       "      <td>730087</td>\n",
       "      <td>2023-05-16</td>\n",
       "      <td>18:04:04</td>\n",
       "      <td>ㅇㅇ(203.227)</td>\n",
       "      <td>1</td>\n",
       "      <td>ㅠㅠ</td>\n",
       "      <td>00730087</td>\n",
       "      <td>01</td>\n",
       "      <td>01</td>\n",
       "      <td>010100730087</td>\n",
       "    </tr>\n",
       "    <tr>\n",
       "      <th>4</th>\n",
       "      <td>dcinside</td>\n",
       "      <td>snp500</td>\n",
       "      <td>JYP</td>\n",
       "      <td>714904</td>\n",
       "      <td>2023-04-17</td>\n",
       "      <td>22:00:45</td>\n",
       "      <td>설묘.</td>\n",
       "      <td>0</td>\n",
       "      <td>니들 jyp 어케 생각해? ㄹㅇ 개미 너무 많이 붙는거 같은데</td>\n",
       "      <td>00714904</td>\n",
       "      <td>01</td>\n",
       "      <td>01</td>\n",
       "      <td>010100714904</td>\n",
       "    </tr>\n",
       "  </tbody>\n",
       "</table>\n",
       "</div>"
      ],
      "text/plain": [
       "  community gall_id search_keyword  number date_created time_created  \\\n",
       "0  dcinside  snp500            JYP  746844   2023-06-13     12:50:42   \n",
       "1  dcinside  snp500            JYP  730087   2023-05-16     17:52:40   \n",
       "2  dcinside  snp500            JYP  730087   2023-05-16     17:52:48   \n",
       "3  dcinside  snp500            JYP  730087   2023-05-16     18:04:04   \n",
       "4  dcinside  snp500            JYP  714904   2023-04-17     22:00:45   \n",
       "\n",
       "        writer  is_reply                                               text  \\\n",
       "0           ㅇㅇ         0     jyp가반년만에2배가올랏네 근디보니는인적자원위주로하는사업은먼가ㅂㄹ다걍제조업이조음..   \n",
       "1   ㅇㅇ(118.34)         0  야 개보지년들아 JYP 주가 봤냐.. 미쳣다 지금... 개잡주 오르는건 그러려니 하...   \n",
       "2   ㅇㅇ(118.34)         1                                                 ㅠㅠ   \n",
       "3  ㅇㅇ(203.227)         1                                                 ㅠㅠ   \n",
       "4          설묘.         0                 니들 jyp 어케 생각해? ㄹㅇ 개미 너무 많이 붙는거 같은데   \n",
       "\n",
       "  number_str gall_id_mapped search_keyword_mapped            id  \n",
       "0   00746844             01                    01  010100746844  \n",
       "1   00730087             01                    01  010100730087  \n",
       "2   00730087             01                    01  010100730087  \n",
       "3   00730087             01                    01  010100730087  \n",
       "4   00714904             01                    01  010100714904  "
      ]
     },
     "execution_count": 81,
     "metadata": {},
     "output_type": "execute_result"
    }
   ],
   "source": [
    "# id 만들기\n",
    "# id : 12자리 숫자 문자열. id = 'search_keyword' + 'gall_id' + 'number'\n",
    "# id는 (게시글과 게시글에 달린 댓글) 을 고유한 단위로 묶어준다\n",
    "df['id'] = df['search_keyword_mapped'] + df['gall_id_mapped'] + df['number_str']\n",
    "df.head()"
   ]
  },
  {
   "cell_type": "code",
   "execution_count": 8,
   "id": "f2153d04-1108-4931-908c-b2064854caf8",
   "metadata": {},
   "outputs": [],
   "source": [
    "import pandas as pd\n",
    "df = pd.read_csv(\"output_id_text.csv\", encoding=\"utf-8\")\n",
    "\n",
    "# 불필요한 칼럼 제거\n",
    "df_new = df.drop(['community', 'gall_id', 'number', 'number_str', 'gall_id_mapped', 'search_keyword_mapped'], axis=1)"
   ]
  },
  {
   "cell_type": "code",
   "execution_count": 9,
   "id": "3468e4f1-be0d-4ae7-b1bf-ca55ab97d2ec",
   "metadata": {},
   "outputs": [
    {
     "data": {
      "text/html": [
       "<div>\n",
       "<style scoped>\n",
       "    .dataframe tbody tr th:only-of-type {\n",
       "        vertical-align: middle;\n",
       "    }\n",
       "\n",
       "    .dataframe tbody tr th {\n",
       "        vertical-align: top;\n",
       "    }\n",
       "\n",
       "    .dataframe thead th {\n",
       "        text-align: right;\n",
       "    }\n",
       "</style>\n",
       "<table border=\"1\" class=\"dataframe\">\n",
       "  <thead>\n",
       "    <tr style=\"text-align: right;\">\n",
       "      <th></th>\n",
       "      <th>search_keyword</th>\n",
       "      <th>date_created</th>\n",
       "      <th>time_created</th>\n",
       "      <th>writer</th>\n",
       "      <th>is_reply</th>\n",
       "      <th>text</th>\n",
       "      <th>id</th>\n",
       "    </tr>\n",
       "  </thead>\n",
       "  <tbody>\n",
       "    <tr>\n",
       "      <th>1153469</th>\n",
       "      <td>휴젤</td>\n",
       "      <td>2020-04-30</td>\n",
       "      <td>20:08:57</td>\n",
       "      <td>사이버경찰</td>\n",
       "      <td>1</td>\n",
       "      <td>갤 잘못온듯</td>\n",
       "      <td>241400137263</td>\n",
       "    </tr>\n",
       "    <tr>\n",
       "      <th>1153470</th>\n",
       "      <td>휴젤</td>\n",
       "      <td>2020-04-30</td>\n",
       "      <td>20:09:36</td>\n",
       "      <td>윤연준(211.108)</td>\n",
       "      <td>1</td>\n",
       "      <td>ccl 지금 시총 반도안되는 개잡주들 천지인즛</td>\n",
       "      <td>241400137263</td>\n",
       "    </tr>\n",
       "    <tr>\n",
       "      <th>1153471</th>\n",
       "      <td>휴젤</td>\n",
       "      <td>2020-04-29</td>\n",
       "      <td>11:55:10</td>\n",
       "      <td>ㅇㅇ(123.215)</td>\n",
       "      <td>0</td>\n",
       "      <td>미국주식보다 한국꺼보면 ㄹㅇ 암걸릴 것 같음 특히 휴젤 저거 아는분이 임원진인데 회...</td>\n",
       "      <td>241400125127</td>\n",
       "    </tr>\n",
       "    <tr>\n",
       "      <th>1153472</th>\n",
       "      <td>휴젤</td>\n",
       "      <td>2020-04-29</td>\n",
       "      <td>11:56:16</td>\n",
       "      <td>ㅇㄷ(175.223)</td>\n",
       "      <td>1</td>\n",
       "      <td>한국 상장회사들중에 ㅂㅅ같은곳이 넘 많음...</td>\n",
       "      <td>241400125127</td>\n",
       "    </tr>\n",
       "    <tr>\n",
       "      <th>1153473</th>\n",
       "      <td>휴젤</td>\n",
       "      <td>2020-04-29</td>\n",
       "      <td>11:56:38</td>\n",
       "      <td>ㅇㅇ(223.33)</td>\n",
       "      <td>1</td>\n",
       "      <td>신흥국 회사투자 망설여지는 게 이거 때문임. 주식시장에 대한 개념이 안 잡혀있음.</td>\n",
       "      <td>241400125127</td>\n",
       "    </tr>\n",
       "  </tbody>\n",
       "</table>\n",
       "</div>"
      ],
      "text/plain": [
       "        search_keyword date_created time_created        writer  is_reply  \\\n",
       "1153469             휴젤   2020-04-30     20:08:57         사이버경찰         1   \n",
       "1153470             휴젤   2020-04-30     20:09:36  윤연준(211.108)         1   \n",
       "1153471             휴젤   2020-04-29     11:55:10   ㅇㅇ(123.215)         0   \n",
       "1153472             휴젤   2020-04-29     11:56:16   ㅇㄷ(175.223)         1   \n",
       "1153473             휴젤   2020-04-29     11:56:38    ㅇㅇ(223.33)         1   \n",
       "\n",
       "                                                      text            id  \n",
       "1153469                                             갤 잘못온듯  241400137263  \n",
       "1153470                          ccl 지금 시총 반도안되는 개잡주들 천지인즛  241400137263  \n",
       "1153471  미국주식보다 한국꺼보면 ㄹㅇ 암걸릴 것 같음 특히 휴젤 저거 아는분이 임원진인데 회...  241400125127  \n",
       "1153472                          한국 상장회사들중에 ㅂㅅ같은곳이 넘 많음...  241400125127  \n",
       "1153473      신흥국 회사투자 망설여지는 게 이거 때문임. 주식시장에 대한 개념이 안 잡혀있음.  241400125127  "
      ]
     },
     "execution_count": 9,
     "metadata": {},
     "output_type": "execute_result"
    }
   ],
   "source": [
    "df_new.tail(5)"
   ]
  },
  {
   "cell_type": "code",
   "execution_count": null,
   "id": "c66fdd91-2b8f-4f45-af69-9005d1f8fa6d",
   "metadata": {},
   "outputs": [],
   "source": [
    "df_new.info()"
   ]
  },
  {
   "cell_type": "markdown",
   "id": "a24c62f7-7322-41bb-8bc3-5f66cb1648a6",
   "metadata": {},
   "source": [
    "## 파일로 저장 : 1_id_text.csv"
   ]
  },
  {
   "cell_type": "code",
   "execution_count": 10,
   "id": "eb128376-b8be-426f-8b03-2254b69534a5",
   "metadata": {},
   "outputs": [],
   "source": [
    "# .csv 파일로 저장\n",
    "df_new.to_csv(\"1_id_text.csv\", encoding='utf-8', index=False)"
   ]
  }
 ],
 "metadata": {
  "kernelspec": {
   "display_name": "Python 3 (ipykernel)",
   "language": "python",
   "name": "python3"
  },
  "language_info": {
   "codemirror_mode": {
    "name": "ipython",
    "version": 3
   },
   "file_extension": ".py",
   "mimetype": "text/x-python",
   "name": "python",
   "nbconvert_exporter": "python",
   "pygments_lexer": "ipython3",
   "version": "3.8.18"
  }
 },
 "nbformat": 4,
 "nbformat_minor": 5
}
