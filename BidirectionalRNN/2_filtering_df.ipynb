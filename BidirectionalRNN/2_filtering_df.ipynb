{
 "cells": [
  {
   "cell_type": "markdown",
   "id": "350f1c19-323f-4b19-91f4-7e470d2f594c",
   "metadata": {},
   "source": [
    "# 2. 데이터 재단하기 Filtering df\n",
    "- 학습에 방해가 될 가능성이 존재하는 text는 제거한다\n",
    "1. 필요 이상으로 긴 글은 목적이 다른 글일 가능성이 크므로 제거한다 ex) 기사\n",
    "- 길이 분포를 파악하고, 기준을 세우자.\n",
    "2. 링크가 포함된 글도 제거하자\n",
    "3. 댓글이 없는 본문, 본문이 없는 댓글은 제거한다.\n",
    "4. 파일로 저장"
   ]
  },
  {
   "cell_type": "markdown",
   "id": "fe8abfbb-1f4c-4a71-8015-425a1b02d4b5",
   "metadata": {},
   "source": [
    "## 2-a. 파일 불러오기"
   ]
  },
  {
   "cell_type": "code",
   "execution_count": 1,
   "id": "b4008993-6a88-41e1-b0c1-7743e5803f6a",
   "metadata": {},
   "outputs": [
    {
     "data": {
      "text/html": [
       "<div>\n",
       "<style scoped>\n",
       "    .dataframe tbody tr th:only-of-type {\n",
       "        vertical-align: middle;\n",
       "    }\n",
       "\n",
       "    .dataframe tbody tr th {\n",
       "        vertical-align: top;\n",
       "    }\n",
       "\n",
       "    .dataframe thead th {\n",
       "        text-align: right;\n",
       "    }\n",
       "</style>\n",
       "<table border=\"1\" class=\"dataframe\">\n",
       "  <thead>\n",
       "    <tr style=\"text-align: right;\">\n",
       "      <th></th>\n",
       "      <th>search_keyword</th>\n",
       "      <th>date_created</th>\n",
       "      <th>time_created</th>\n",
       "      <th>writer</th>\n",
       "      <th>is_reply</th>\n",
       "      <th>text</th>\n",
       "      <th>id</th>\n",
       "    </tr>\n",
       "  </thead>\n",
       "  <tbody>\n",
       "    <tr>\n",
       "      <th>0</th>\n",
       "      <td>JYP</td>\n",
       "      <td>2023-06-13</td>\n",
       "      <td>12:50:42</td>\n",
       "      <td>ㅇㅇ</td>\n",
       "      <td>0</td>\n",
       "      <td>jyp가반년만에2배가올랏네 근디보니는인적자원위주로하는사업은먼가ㅂㄹ다걍제조업이조음..</td>\n",
       "      <td>10100746844</td>\n",
       "    </tr>\n",
       "    <tr>\n",
       "      <th>1</th>\n",
       "      <td>JYP</td>\n",
       "      <td>2023-05-16</td>\n",
       "      <td>17:52:40</td>\n",
       "      <td>ㅇㅇ(118.34)</td>\n",
       "      <td>0</td>\n",
       "      <td>야 개보지년들아 JYP 주가 봤냐.. 미쳣다 지금... 개잡주 오르는건 그러려니 하...</td>\n",
       "      <td>10100730087</td>\n",
       "    </tr>\n",
       "    <tr>\n",
       "      <th>2</th>\n",
       "      <td>JYP</td>\n",
       "      <td>2023-05-16</td>\n",
       "      <td>17:52:48</td>\n",
       "      <td>ㅇㅇ(118.34)</td>\n",
       "      <td>1</td>\n",
       "      <td>ㅠㅠ</td>\n",
       "      <td>10100730087</td>\n",
       "    </tr>\n",
       "  </tbody>\n",
       "</table>\n",
       "</div>"
      ],
      "text/plain": [
       "  search_keyword date_created time_created      writer  is_reply  \\\n",
       "0            JYP   2023-06-13     12:50:42          ㅇㅇ         0   \n",
       "1            JYP   2023-05-16     17:52:40  ㅇㅇ(118.34)         0   \n",
       "2            JYP   2023-05-16     17:52:48  ㅇㅇ(118.34)         1   \n",
       "\n",
       "                                                text           id  \n",
       "0     jyp가반년만에2배가올랏네 근디보니는인적자원위주로하는사업은먼가ㅂㄹ다걍제조업이조음..  10100746844  \n",
       "1  야 개보지년들아 JYP 주가 봤냐.. 미쳣다 지금... 개잡주 오르는건 그러려니 하...  10100730087  \n",
       "2                                                 ㅠㅠ  10100730087  "
      ]
     },
     "execution_count": 1,
     "metadata": {},
     "output_type": "execute_result"
    }
   ],
   "source": [
    "import pandas as pd\n",
    "file_name = \"1_id_text.csv\"\n",
    "df = pd.read_csv(file_name, encoding=\"utf-8\")\n",
    "df.head(3)"
   ]
  },
  {
   "cell_type": "code",
   "execution_count": 7,
   "id": "e0fc8fba-2bf6-443f-aa48-a3eca030d13d",
   "metadata": {},
   "outputs": [
    {
     "name": "stdout",
     "output_type": "stream",
     "text": [
      "<class 'pandas.core.frame.DataFrame'>\n",
      "RangeIndex: 1153474 entries, 0 to 1153473\n",
      "Data columns (total 8 columns):\n",
      " #   Column          Non-Null Count    Dtype \n",
      "---  ------          --------------    ----- \n",
      " 0   search_keyword  1153474 non-null  object\n",
      " 1   date_created    1153474 non-null  object\n",
      " 2   time_created    1153474 non-null  object\n",
      " 3   writer          1153474 non-null  object\n",
      " 4   is_reply        1153474 non-null  int64 \n",
      " 5   text            1153474 non-null  object\n",
      " 6   id              1153474 non-null  int64 \n",
      " 7   text_length     1153474 non-null  int64 \n",
      "dtypes: int64(3), object(5)\n",
      "memory usage: 70.4+ MB\n"
     ]
    }
   ],
   "source": [
    "df.info()"
   ]
  },
  {
   "cell_type": "markdown",
   "id": "9bc3d65e-d8d2-48c6-8efb-e56246ed930f",
   "metadata": {},
   "source": [
    "## 2-b. 목적에 맞지 않는 글 제거\n",
    "- 링크가 들어간 글은 제거한다 (http 가 들어간 row 제거)\n",
    "- 기사이거나, 광고목적의 글이 많기 때문이다"
   ]
  },
  {
   "cell_type": "code",
   "execution_count": 8,
   "id": "9a32c919-aaf7-4da0-8db2-fd740d96bfb9",
   "metadata": {},
   "outputs": [
    {
     "name": "stdout",
     "output_type": "stream",
     "text": [
      "<class 'pandas.core.frame.DataFrame'>\n",
      "Index: 1147246 entries, 0 to 1153473\n",
      "Data columns (total 8 columns):\n",
      " #   Column          Non-Null Count    Dtype \n",
      "---  ------          --------------    ----- \n",
      " 0   search_keyword  1147246 non-null  object\n",
      " 1   date_created    1147246 non-null  object\n",
      " 2   time_created    1147246 non-null  object\n",
      " 3   writer          1147246 non-null  object\n",
      " 4   is_reply        1147246 non-null  int64 \n",
      " 5   text            1147246 non-null  object\n",
      " 6   id              1147246 non-null  int64 \n",
      " 7   text_length     1147246 non-null  int64 \n",
      "dtypes: int64(3), object(5)\n",
      "memory usage: 78.8+ MB\n"
     ]
    }
   ],
   "source": [
    "df_cleaned = df[~df['text'].str.contains('http')]\n",
    "df_cleaned.info()"
   ]
  },
  {
   "cell_type": "markdown",
   "id": "a1e35882-ed27-412c-8d7e-2bcbde7486e1",
   "metadata": {},
   "source": [
    "## 2-c. text 길이 분포 시각화\n",
    "- 어디서 잘라야 할지 판단하기 위해 text 길이 분포를 시각화한다"
   ]
  },
  {
   "cell_type": "markdown",
   "id": "ab61594b-ae92-4b5a-8373-3c8aff05e302",
   "metadata": {},
   "source": [
    "### 2-c-1. 길이분포 시각화 함수"
   ]
  },
  {
   "cell_type": "code",
   "execution_count": 30,
   "id": "3deae673-69c3-4c40-8f1f-32f77f258887",
   "metadata": {},
   "outputs": [],
   "source": [
    "import pandas as pd\n",
    "import matplotlib.pyplot as plt\n",
    "import numpy as np\n",
    "\n",
    "# 함수화\n",
    "def analyze_text_length(df, column_name):\n",
    "    df_copy = df.copy()\n",
    "    df_copy['text_length'] = df_copy[column_name].apply(len)\n",
    "    plt.figure(figsize=(10, 6))\n",
    "    plt.hist(df_copy['text_length'], bins=20, log=True)\n",
    "    plt.xlabel('Text Length')\n",
    "    plt.ylabel('Frequency (log scale)')\n",
    "    plt.title('Distribution of Text Length')\n",
    "    plt.show()\n",
    "    percentiles = [99.95, 99.9, 99.5, 99, 98.5, 98, 97, 96]\n",
    "    percentile_values = np.percentile(df_copy['text_length'], percentiles)\n",
    "    return dict(zip(percentiles, percentile_values))"
   ]
  },
  {
   "cell_type": "markdown",
   "id": "381b9a71-3acf-48cc-91d8-966d0a4eb496",
   "metadata": {},
   "source": [
    "### 2-c-2. 본문의 길이분포 시각화"
   ]
  },
  {
   "cell_type": "code",
   "execution_count": 25,
   "id": "801e0215-3ab0-46bb-a1ee-75dbd963f62f",
   "metadata": {},
   "outputs": [
    {
     "data": {
      "image/png": "[encoded data removed]",
      "text/plain": [
       "<Figure size 1000x600 with 1 Axes>"
      ]
     },
     "metadata": {},
     "output_type": "display_data"
    },
    {
     "data": {
      "text/plain": [
       "{99.9: 8159.0,\n",
       " 99.5: 3816.0,\n",
       " 99: 2693.0,\n",
       " 98.5: 2104.0,\n",
       " 98: 1747.0,\n",
       " 97: 1221.0,\n",
       " 96: 883.0}"
      ]
     },
     "execution_count": 25,
     "metadata": {},
     "output_type": "execute_result"
    }
   ],
   "source": [
    "df_0 = df[df['is_reply'] == 0]\n",
    "dict_0 = analyze_text_length(df_0, 'text')\n",
    "dict_0"
   ]
  },
  {
   "cell_type": "code",
   "execution_count": 42,
   "id": "e3e42af9-c670-4f09-9c64-1a9cefc426c2",
   "metadata": {
    "scrolled": true
   },
   "outputs": [
    {
     "data": {
      "text/html": [
       "<div>\n",
       "<style scoped>\n",
       "    .dataframe tbody tr th:only-of-type {\n",
       "        vertical-align: middle;\n",
       "    }\n",
       "\n",
       "    .dataframe tbody tr th {\n",
       "        vertical-align: top;\n",
       "    }\n",
       "\n",
       "    .dataframe thead th {\n",
       "        text-align: right;\n",
       "    }\n",
       "</style>\n",
       "<table border=\"1\" class=\"dataframe\">\n",
       "  <thead>\n",
       "    <tr style=\"text-align: right;\">\n",
       "      <th></th>\n",
       "      <th>search_keyword</th>\n",
       "      <th>date_created</th>\n",
       "      <th>time_created</th>\n",
       "      <th>writer</th>\n",
       "      <th>is_reply</th>\n",
       "      <th>text</th>\n",
       "      <th>id</th>\n",
       "      <th>text_length</th>\n",
       "    </tr>\n",
       "  </thead>\n",
       "  <tbody>\n",
       "    <tr>\n",
       "      <th>12</th>\n",
       "      <td>JYP</td>\n",
       "      <td>2023-04-15</td>\n",
       "      <td>18:04:36</td>\n",
       "      <td>ㅇㅇ(218.55)</td>\n",
       "      <td>0</td>\n",
       "      <td>JYP는 신 맞다 (300%인증) 컄ㅋㅋㅋㅋㅋㅋㅋㅋㅋㅋㅋㅋㅋ컄ㅋㅋㅋㅋㅋㅋㅋㅋㅋㅋㅋㅋ...</td>\n",
       "      <td>10100713453</td>\n",
       "      <td>1239</td>\n",
       "    </tr>\n",
       "    <tr>\n",
       "      <th>86</th>\n",
       "      <td>JYP</td>\n",
       "      <td>2021-11-29</td>\n",
       "      <td>00:43:37</td>\n",
       "      <td>봉말숙</td>\n",
       "      <td>0</td>\n",
       "      <td>메타버스 ETF'로 맞붙은 삼성·미래운용 미래  수익률 35.92%로 1위…순자산은...</td>\n",
       "      <td>10200010692</td>\n",
       "      <td>1191</td>\n",
       "    </tr>\n",
       "    <tr>\n",
       "      <th>109</th>\n",
       "      <td>JYP</td>\n",
       "      <td>2021-05-07</td>\n",
       "      <td>19:24:24</td>\n",
       "      <td>쿠팡매매법</td>\n",
       "      <td>0</td>\n",
       "      <td>5/7 대차 체결과 상환 삼중 죽어보자는 뜻두중 lg디플 여전히 대차 계속 쌓는 중...</td>\n",
       "      <td>10300072663</td>\n",
       "      <td>1442</td>\n",
       "    </tr>\n",
       "    <tr>\n",
       "      <th>120</th>\n",
       "      <td>JYP</td>\n",
       "      <td>2021-04-12</td>\n",
       "      <td>15:05:06</td>\n",
       "      <td>ㆀ(211.47)</td>\n",
       "      <td>0</td>\n",
       "      <td>코스닥 대차거래 잔고감소 상위 20종목 순위 종목명 체결(주수) 상환(주수) 잔고증...</td>\n",
       "      <td>10300067542</td>\n",
       "      <td>1123</td>\n",
       "    </tr>\n",
       "    <tr>\n",
       "      <th>131</th>\n",
       "      <td>JYP</td>\n",
       "      <td>2020-12-06</td>\n",
       "      <td>03:08:31</td>\n",
       "      <td>도토루</td>\n",
       "      <td>0</td>\n",
       "      <td>주린이 수급매매 빠다망고형 수급글 읽고 평소 써오던 수급매매법 정리할겸 써봄나는 차...</td>\n",
       "      <td>10300037136</td>\n",
       "      <td>1028</td>\n",
       "    </tr>\n",
       "    <tr>\n",
       "      <th>...</th>\n",
       "      <td>...</td>\n",
       "      <td>...</td>\n",
       "      <td>...</td>\n",
       "      <td>...</td>\n",
       "      <td>...</td>\n",
       "      <td>...</td>\n",
       "      <td>...</td>\n",
       "      <td>...</td>\n",
       "    </tr>\n",
       "    <tr>\n",
       "      <th>1153287</th>\n",
       "      <td>휴젤</td>\n",
       "      <td>2020-10-29</td>\n",
       "      <td>17:36:01</td>\n",
       "      <td>0000(165.246)</td>\n",
       "      <td>0</td>\n",
       "      <td>대폭락의 전조들. 코스피 0.8% 하락…기관·외국인 대량 매도(종합) 코스피 하락 ...</td>\n",
       "      <td>241100902026</td>\n",
       "      <td>1753</td>\n",
       "    </tr>\n",
       "    <tr>\n",
       "      <th>1153303</th>\n",
       "      <td>휴젤</td>\n",
       "      <td>2020-10-22</td>\n",
       "      <td>17:56:30</td>\n",
       "      <td>ㅇㅇ</td>\n",
       "      <td>0</td>\n",
       "      <td>1022 특징주 1. 개요KOSPI 2 355.05(-0.67%)KOSDAQ 812...</td>\n",
       "      <td>241100877984</td>\n",
       "      <td>7802</td>\n",
       "    </tr>\n",
       "    <tr>\n",
       "      <th>1153427</th>\n",
       "      <td>휴젤</td>\n",
       "      <td>2020-05-04</td>\n",
       "      <td>10:37:47</td>\n",
       "      <td>News</td>\n",
       "      <td>0</td>\n",
       "      <td>국산1호 보톡스 메디톡신 허가취소기로…회사 \"일자리창출기여해 무허가 원액으로 제품을...</td>\n",
       "      <td>241100060063</td>\n",
       "      <td>1897</td>\n",
       "    </tr>\n",
       "    <tr>\n",
       "      <th>1153433</th>\n",
       "      <td>휴젤</td>\n",
       "      <td>2022-01-24</td>\n",
       "      <td>18:01:47</td>\n",
       "      <td>코스피1500</td>\n",
       "      <td>0</td>\n",
       "      <td>사모펀드 \" 오스템 경영진이랑 티타임이라도.. \" \"오스템임플란트 경영진 연락처좀 ...</td>\n",
       "      <td>241200577040</td>\n",
       "      <td>1917</td>\n",
       "    </tr>\n",
       "    <tr>\n",
       "      <th>1153445</th>\n",
       "      <td>휴젤</td>\n",
       "      <td>2020-12-16</td>\n",
       "      <td>14:24:26</td>\n",
       "      <td>...(211.248)</td>\n",
       "      <td>0</td>\n",
       "      <td>근데 진짜 피터린치 말이 맞는게... 나는 의산데... 거의 12-3년 전에 내가 ...</td>\n",
       "      <td>241401841911</td>\n",
       "      <td>1017</td>\n",
       "    </tr>\n",
       "  </tbody>\n",
       "</table>\n",
       "<p>16472 rows × 8 columns</p>\n",
       "</div>"
      ],
      "text/plain": [
       "        search_keyword date_created time_created         writer  is_reply  \\\n",
       "12                 JYP   2023-04-15     18:04:36     ㅇㅇ(218.55)         0   \n",
       "86                 JYP   2021-11-29     00:43:37            봉말숙         0   \n",
       "109                JYP   2021-05-07     19:24:24          쿠팡매매법         0   \n",
       "120                JYP   2021-04-12     15:05:06      ㆀ(211.47)         0   \n",
       "131                JYP   2020-12-06     03:08:31            도토루         0   \n",
       "...                ...          ...          ...            ...       ...   \n",
       "1153287             휴젤   2020-10-29     17:36:01  0000(165.246)         0   \n",
       "1153303             휴젤   2020-10-22     17:56:30             ㅇㅇ         0   \n",
       "1153427             휴젤   2020-05-04     10:37:47           News         0   \n",
       "1153433             휴젤   2022-01-24     18:01:47        코스피1500         0   \n",
       "1153445             휴젤   2020-12-16     14:24:26   ...(211.248)         0   \n",
       "\n",
       "                                                      text            id  \\\n",
       "12       JYP는 신 맞다 (300%인증) 컄ㅋㅋㅋㅋㅋㅋㅋㅋㅋㅋㅋㅋㅋ컄ㅋㅋㅋㅋㅋㅋㅋㅋㅋㅋㅋㅋ...   10100713453   \n",
       "86       메타버스 ETF'로 맞붙은 삼성·미래운용 미래  수익률 35.92%로 1위…순자산은...   10200010692   \n",
       "109      5/7 대차 체결과 상환 삼중 죽어보자는 뜻두중 lg디플 여전히 대차 계속 쌓는 중...   10300072663   \n",
       "120      코스닥 대차거래 잔고감소 상위 20종목 순위 종목명 체결(주수) 상환(주수) 잔고증...   10300067542   \n",
       "131      주린이 수급매매 빠다망고형 수급글 읽고 평소 써오던 수급매매법 정리할겸 써봄나는 차...   10300037136   \n",
       "...                                                    ...           ...   \n",
       "1153287  대폭락의 전조들. 코스피 0.8% 하락…기관·외국인 대량 매도(종합) 코스피 하락 ...  241100902026   \n",
       "1153303  1022 특징주 1. 개요KOSPI 2 355.05(-0.67%)KOSDAQ 812...  241100877984   \n",
       "1153427  국산1호 보톡스 메디톡신 허가취소기로…회사 \"일자리창출기여해 무허가 원액으로 제품을...  241100060063   \n",
       "1153433  사모펀드 \" 오스템 경영진이랑 티타임이라도.. \" \"오스템임플란트 경영진 연락처좀 ...  241200577040   \n",
       "1153445  근데 진짜 피터린치 말이 맞는게... 나는 의산데... 거의 12-3년 전에 내가 ...  241401841911   \n",
       "\n",
       "         text_length  \n",
       "12              1239  \n",
       "86              1191  \n",
       "109             1442  \n",
       "120             1123  \n",
       "131             1028  \n",
       "...              ...  \n",
       "1153287         1753  \n",
       "1153303         7802  \n",
       "1153427         1897  \n",
       "1153433         1917  \n",
       "1153445         1017  \n",
       "\n",
       "[16472 rows x 8 columns]"
      ]
     },
     "execution_count": 42,
     "metadata": {},
     "output_type": "execute_result"
    }
   ],
   "source": [
    "n = 883.0\n",
    "df_length_0 = df_0[df_0['text'].apply(len) >= n]\n",
    "df_length_0"
   ]
  },
  {
   "cell_type": "markdown",
   "id": "7d586ed7-697a-4f21-95c6-cdc6bc41c754",
   "metadata": {},
   "source": [
    "- 보통 기사 text가 1000자가 넘어간다\n",
    "- 상위 4%인 883자 이상인 text를 제거하기로 결정한다\n",
    "- length_threshold_0 = 883"
   ]
  },
  {
   "cell_type": "markdown",
   "id": "25f3ceaa-fd51-4d62-b131-d15aabedbcf7",
   "metadata": {},
   "source": [
    "### 2-c-3. 원본 df에 적용하기 : 길이가 긴 본문 row 없애기 "
   ]
  },
  {
   "cell_type": "code",
   "execution_count": 44,
   "id": "1f74fe07-6df4-4c5e-9823-a4f0593e2a52",
   "metadata": {},
   "outputs": [
    {
     "name": "stdout",
     "output_type": "stream",
     "text": [
      "<class 'pandas.core.frame.DataFrame'>\n",
      "Index: 1137002 entries, 0 to 1153473\n",
      "Data columns (total 8 columns):\n",
      " #   Column          Non-Null Count    Dtype \n",
      "---  ------          --------------    ----- \n",
      " 0   search_keyword  1137002 non-null  object\n",
      " 1   date_created    1137002 non-null  object\n",
      " 2   time_created    1137002 non-null  object\n",
      " 3   writer          1137002 non-null  object\n",
      " 4   is_reply        1137002 non-null  int64 \n",
      " 5   text            1137002 non-null  object\n",
      " 6   id              1137002 non-null  int64 \n",
      " 7   text_length     1137002 non-null  int64 \n",
      "dtypes: int64(3), object(5)\n",
      "memory usage: 78.1+ MB\n"
     ]
    }
   ],
   "source": [
    "length_threshold_0 = 883\n",
    "\n",
    "df_removed = df[~((df['is_reply'] == 0) & (df['text'].apply(len) >= length_threshold_0))]\n",
    "\n",
    "df_removed.info()"
   ]
  },
  {
   "cell_type": "code",
   "execution_count": 45,
   "id": "e1fe9044-0a06-4f9c-bbcc-48befa76260c",
   "metadata": {},
   "outputs": [
    {
     "data": {
      "text/plain": [
       "10244"
      ]
     },
     "execution_count": 45,
     "metadata": {},
     "output_type": "execute_result"
    }
   ],
   "source": [
    "1147246 - 1137002 \n",
    "# 10244 개의 row 제거됨"
   ]
  },
  {
   "cell_type": "markdown",
   "id": "020be0c3-43ed-417f-91b7-ed6b7098cc8c",
   "metadata": {},
   "source": [
    "### 2-c-4. 댓글의 길이분포 시각화"
   ]
  },
  {
   "cell_type": "code",
   "execution_count": 31,
   "id": "761282fd-21ef-4df0-ae37-79baea4f5fd7",
   "metadata": {},
   "outputs": [
    {
     "data": {
      "image/png": "[encoded data removed]",
      "text/plain": [
       "<Figure size 1000x600 with 1 Axes>"
      ]
     },
     "metadata": {},
     "output_type": "display_data"
    },
    {
     "data": {
      "text/plain": [
       "{99.95: 359.00800000003073,\n",
       " 99.9: 292.0,\n",
       " 99.5: 182.0,\n",
       " 99: 142.0,\n",
       " 98.5: 120.0,\n",
       " 98: 106.0,\n",
       " 97: 89.0,\n",
       " 96: 78.0}"
      ]
     },
     "execution_count": 31,
     "metadata": {},
     "output_type": "execute_result"
    }
   ],
   "source": [
    "df_1 = df[df['is_reply'] == 1]\n",
    "dict_1 = analyze_text_length(df_1, 'text')\n",
    "dict_1"
   ]
  },
  {
   "cell_type": "code",
   "execution_count": 36,
   "id": "ef4d4367-c14f-4206-a0e9-e870762ae117",
   "metadata": {
    "scrolled": true
   },
   "outputs": [
    {
     "data": {
      "text/html": [
       "<div>\n",
       "<style scoped>\n",
       "    .dataframe tbody tr th:only-of-type {\n",
       "        vertical-align: middle;\n",
       "    }\n",
       "\n",
       "    .dataframe tbody tr th {\n",
       "        vertical-align: top;\n",
       "    }\n",
       "\n",
       "    .dataframe thead th {\n",
       "        text-align: right;\n",
       "    }\n",
       "</style>\n",
       "<table border=\"1\" class=\"dataframe\">\n",
       "  <thead>\n",
       "    <tr style=\"text-align: right;\">\n",
       "      <th></th>\n",
       "      <th>search_keyword</th>\n",
       "      <th>date_created</th>\n",
       "      <th>time_created</th>\n",
       "      <th>writer</th>\n",
       "      <th>is_reply</th>\n",
       "      <th>text</th>\n",
       "      <th>id</th>\n",
       "      <th>text_length</th>\n",
       "    </tr>\n",
       "  </thead>\n",
       "  <tbody>\n",
       "    <tr>\n",
       "      <th>87004</th>\n",
       "      <td>기아</td>\n",
       "      <td>2023-05-20</td>\n",
       "      <td>10:23:55</td>\n",
       "      <td>ㅇㅇ(172.225)</td>\n",
       "      <td>1</td>\n",
       "      <td>뭐  사실 한국만 그러는거 아니긴하다. 전세계가 지금 경제 답없어서 통계주작질로 눈...</td>\n",
       "      <td>41606092544</td>\n",
       "      <td>400</td>\n",
       "    </tr>\n",
       "    <tr>\n",
       "      <th>91565</th>\n",
       "      <td>기아</td>\n",
       "      <td>2020-01-14</td>\n",
       "      <td>18:06:53</td>\n",
       "      <td>ㅇㅇ(89.159)</td>\n",
       "      <td>1</td>\n",
       "      <td>대가리 씹 좆 빠가라 한마디 더 한다. ㅋㅋㅋ 니가 그래 쳐 빠는 벤츠 클라스 a에...</td>\n",
       "      <td>41602607008</td>\n",
       "      <td>400</td>\n",
       "    </tr>\n",
       "    <tr>\n",
       "      <th>99053</th>\n",
       "      <td>기아</td>\n",
       "      <td>2008-05-05</td>\n",
       "      <td>18:38:22</td>\n",
       "      <td>...........(123.212)</td>\n",
       "      <td>1</td>\n",
       "      <td>159.149/\\'검사하는 미국소\\'라.....ㅍㅎㅎ미쿡님하들이 전수 검사라도 한답...</td>\n",
       "      <td>41600097977</td>\n",
       "      <td>401</td>\n",
       "    </tr>\n",
       "    <tr>\n",
       "      <th>109420</th>\n",
       "      <td>기아</td>\n",
       "      <td>2021-02-06</td>\n",
       "      <td>14:52:56</td>\n",
       "      <td>ㅇㅇ(221.149)</td>\n",
       "      <td>1</td>\n",
       "      <td>자율주행 + 전기차 현기밖에 없곸ㅋㅋㅋ 일본은 전기차 못만들곸ㅋㅋㅋ 전기차를 못만드...</td>\n",
       "      <td>40800714542</td>\n",
       "      <td>400</td>\n",
       "    </tr>\n",
       "    <tr>\n",
       "      <th>126876</th>\n",
       "      <td>넷마블</td>\n",
       "      <td>2021-03-11</td>\n",
       "      <td>02:36:47</td>\n",
       "      <td>ㅇㅇ(114.206)</td>\n",
       "      <td>1</td>\n",
       "      <td>ㅋㅋㅋㅋㅋㅋㅋㅋㅋㅋㅋㅋㅋㅋㅋㅋㅋㅋㅋㅋㅋㅋㅋㅋㅋㅋㅋㅋㅋㅋㅋㅋㅋㅋㅋㅋㅋㅋㅋㅋㅋㅋㅋㅋㅋㅋ...</td>\n",
       "      <td>50600887651</td>\n",
       "      <td>400</td>\n",
       "    </tr>\n",
       "    <tr>\n",
       "      <th>...</th>\n",
       "      <td>...</td>\n",
       "      <td>...</td>\n",
       "      <td>...</td>\n",
       "      <td>...</td>\n",
       "      <td>...</td>\n",
       "      <td>...</td>\n",
       "      <td>...</td>\n",
       "      <td>...</td>\n",
       "    </tr>\n",
       "    <tr>\n",
       "      <th>1124329</th>\n",
       "      <td>현대차</td>\n",
       "      <td>2021-01-15</td>\n",
       "      <td>18:39:31</td>\n",
       "      <td>ㅇㅇ(112.163)</td>\n",
       "      <td>1</td>\n",
       "      <td>ㅋㅋㅋㅋㅋㅋㅋㅋㅋㅋㅋㅋㅋㅋㅋㅋㅋㅋㅋㅋㅋㅋㅋㅋㅋㅋㅋㅋㅋㅋㅋㅋㅋㅋㅋㅋㅋㅋㅋㅋㅋㅋㅋㅋㅋㅋ...</td>\n",
       "      <td>231101188458</td>\n",
       "      <td>400</td>\n",
       "    </tr>\n",
       "    <tr>\n",
       "      <th>1124330</th>\n",
       "      <td>현대차</td>\n",
       "      <td>2021-01-15</td>\n",
       "      <td>18:39:33</td>\n",
       "      <td>ㅇㅇ(112.163)</td>\n",
       "      <td>1</td>\n",
       "      <td>ㅋㅋㅋㅋㅋㅋㅋㅋㅋㅋㅋㅋㅋㅋㅋㅋㅋㅋㅋㅋㅋㅋㅋㅋㅋㅋㅋㅋㅋㅋㅋㅋㅋㅋㅋㅋㅋㅋㅋㅋㅋㅋㅋㅋㅋㅋ...</td>\n",
       "      <td>231101188458</td>\n",
       "      <td>400</td>\n",
       "    </tr>\n",
       "    <tr>\n",
       "      <th>1131600</th>\n",
       "      <td>현대차</td>\n",
       "      <td>2020-09-10</td>\n",
       "      <td>09:01:45</td>\n",
       "      <td>ㅇㅇ(39.7)</td>\n",
       "      <td>1</td>\n",
       "      <td>대부분 맞긴한데  일부는 틀림. 현재 생산되는 부산물 수소는 상용화 하기엔 터무니없...</td>\n",
       "      <td>231100714115</td>\n",
       "      <td>413</td>\n",
       "    </tr>\n",
       "    <tr>\n",
       "      <th>1141282</th>\n",
       "      <td>현대차</td>\n",
       "      <td>2021-02-27</td>\n",
       "      <td>01:07:28</td>\n",
       "      <td>ㅇㅇ(39.127)</td>\n",
       "      <td>1</td>\n",
       "      <td>고수와 하수의 차이? ㅋㅋㅋㅋㅋㅋㅋㅋㅋㅋㅋㅋㅋㅋㅋㅋㅋㅋㅋㅋㅋㅋㅋ고수와 하수의 차이?...</td>\n",
       "      <td>231403000102</td>\n",
       "      <td>400</td>\n",
       "    </tr>\n",
       "    <tr>\n",
       "      <th>1142546</th>\n",
       "      <td>현대차</td>\n",
       "      <td>2021-01-19</td>\n",
       "      <td>00:50:42</td>\n",
       "      <td>ㅇㅇ(210.210)</td>\n",
       "      <td>1</td>\n",
       "      <td>??????????????????????????????????????????????...</td>\n",
       "      <td>231402138269</td>\n",
       "      <td>400</td>\n",
       "    </tr>\n",
       "  </tbody>\n",
       "</table>\n",
       "<p>141 rows × 8 columns</p>\n",
       "</div>"
      ],
      "text/plain": [
       "        search_keyword date_created time_created                writer  \\\n",
       "87004               기아   2023-05-20     10:23:55           ㅇㅇ(172.225)   \n",
       "91565               기아   2020-01-14     18:06:53            ㅇㅇ(89.159)   \n",
       "99053               기아   2008-05-05     18:38:22  ...........(123.212)   \n",
       "109420              기아   2021-02-06     14:52:56           ㅇㅇ(221.149)   \n",
       "126876             넷마블   2021-03-11     02:36:47           ㅇㅇ(114.206)   \n",
       "...                ...          ...          ...                   ...   \n",
       "1124329            현대차   2021-01-15     18:39:31           ㅇㅇ(112.163)   \n",
       "1124330            현대차   2021-01-15     18:39:33           ㅇㅇ(112.163)   \n",
       "1131600            현대차   2020-09-10     09:01:45              ㅇㅇ(39.7)   \n",
       "1141282            현대차   2021-02-27     01:07:28            ㅇㅇ(39.127)   \n",
       "1142546            현대차   2021-01-19     00:50:42           ㅇㅇ(210.210)   \n",
       "\n",
       "         is_reply                                               text  \\\n",
       "87004           1  뭐  사실 한국만 그러는거 아니긴하다. 전세계가 지금 경제 답없어서 통계주작질로 눈...   \n",
       "91565           1  대가리 씹 좆 빠가라 한마디 더 한다. ㅋㅋㅋ 니가 그래 쳐 빠는 벤츠 클라스 a에...   \n",
       "99053           1  159.149/\\'검사하는 미국소\\'라.....ㅍㅎㅎ미쿡님하들이 전수 검사라도 한답...   \n",
       "109420          1  자율주행 + 전기차 현기밖에 없곸ㅋㅋㅋ 일본은 전기차 못만들곸ㅋㅋㅋ 전기차를 못만드...   \n",
       "126876          1  ㅋㅋㅋㅋㅋㅋㅋㅋㅋㅋㅋㅋㅋㅋㅋㅋㅋㅋㅋㅋㅋㅋㅋㅋㅋㅋㅋㅋㅋㅋㅋㅋㅋㅋㅋㅋㅋㅋㅋㅋㅋㅋㅋㅋㅋㅋ...   \n",
       "...           ...                                                ...   \n",
       "1124329         1  ㅋㅋㅋㅋㅋㅋㅋㅋㅋㅋㅋㅋㅋㅋㅋㅋㅋㅋㅋㅋㅋㅋㅋㅋㅋㅋㅋㅋㅋㅋㅋㅋㅋㅋㅋㅋㅋㅋㅋㅋㅋㅋㅋㅋㅋㅋ...   \n",
       "1124330         1  ㅋㅋㅋㅋㅋㅋㅋㅋㅋㅋㅋㅋㅋㅋㅋㅋㅋㅋㅋㅋㅋㅋㅋㅋㅋㅋㅋㅋㅋㅋㅋㅋㅋㅋㅋㅋㅋㅋㅋㅋㅋㅋㅋㅋㅋㅋ...   \n",
       "1131600         1  대부분 맞긴한데  일부는 틀림. 현재 생산되는 부산물 수소는 상용화 하기엔 터무니없...   \n",
       "1141282         1  고수와 하수의 차이? ㅋㅋㅋㅋㅋㅋㅋㅋㅋㅋㅋㅋㅋㅋㅋㅋㅋㅋㅋㅋㅋㅋㅋ고수와 하수의 차이?...   \n",
       "1142546         1  ??????????????????????????????????????????????...   \n",
       "\n",
       "                   id  text_length  \n",
       "87004     41606092544          400  \n",
       "91565     41602607008          400  \n",
       "99053     41600097977          401  \n",
       "109420    40800714542          400  \n",
       "126876    50600887651          400  \n",
       "...               ...          ...  \n",
       "1124329  231101188458          400  \n",
       "1124330  231101188458          400  \n",
       "1131600  231100714115          413  \n",
       "1141282  231403000102          400  \n",
       "1142546  231402138269          400  \n",
       "\n",
       "[141 rows x 8 columns]"
      ]
     },
     "execution_count": 36,
     "metadata": {},
     "output_type": "execute_result"
    }
   ],
   "source": [
    "n = 400\n",
    "df_length_1 = df_1[df_1['text'].apply(len) >= n]\n",
    "df_length_1"
   ]
  },
  {
   "cell_type": "markdown",
   "id": "19743339-7bd6-475c-b214-eb079b461cff",
   "metadata": {},
   "source": [
    "- 댓글 text는 목적에 부합하므로 길이를 기준으로 drop하지 않고, 전부 보존한다"
   ]
  },
  {
   "cell_type": "markdown",
   "id": "18ae36af-6667-4f46-9336-27a0170276b7",
   "metadata": {},
   "source": [
    "### 2-c-5. 댓글이 없는 본문 row 제거"
   ]
  },
  {
   "cell_type": "code",
   "execution_count": 50,
   "id": "2d5c70d5-8671-4e08-98ed-6f571f262f4e",
   "metadata": {},
   "outputs": [
    {
     "name": "stdout",
     "output_type": "stream",
     "text": [
      "<class 'pandas.core.frame.DataFrame'>\n",
      "Index: 950809 entries, 1 to 1153473\n",
      "Data columns (total 8 columns):\n",
      " #   Column          Non-Null Count   Dtype \n",
      "---  ------          --------------   ----- \n",
      " 0   search_keyword  950809 non-null  object\n",
      " 1   date_created    950809 non-null  object\n",
      " 2   time_created    950809 non-null  object\n",
      " 3   writer          950809 non-null  object\n",
      " 4   is_reply        950809 non-null  int64 \n",
      " 5   text            950809 non-null  object\n",
      " 6   id              950809 non-null  int64 \n",
      " 7   text_length     950809 non-null  int64 \n",
      "dtypes: int64(3), object(5)\n",
      "memory usage: 65.3+ MB\n"
     ]
    }
   ],
   "source": [
    "df_filtered_0 = df_removed.groupby('id').filter(lambda x: not x['is_reply'].eq(0).all())\n",
    "df_filtered_0.info()"
   ]
  },
  {
   "cell_type": "markdown",
   "id": "321e6ee3-6efc-42fa-aa79-dec71824d5cd",
   "metadata": {},
   "source": [
    "### 2-c-6. 본문이 없는 댓글 row 제거"
   ]
  },
  {
   "cell_type": "code",
   "execution_count": 51,
   "id": "8e59401f-ed53-43d9-b3f4-0eda3699bce4",
   "metadata": {},
   "outputs": [
    {
     "name": "stdout",
     "output_type": "stream",
     "text": [
      "<class 'pandas.core.frame.DataFrame'>\n",
      "Index: 891014 entries, 1 to 1153473\n",
      "Data columns (total 8 columns):\n",
      " #   Column          Non-Null Count   Dtype \n",
      "---  ------          --------------   ----- \n",
      " 0   search_keyword  891014 non-null  object\n",
      " 1   date_created    891014 non-null  object\n",
      " 2   time_created    891014 non-null  object\n",
      " 3   writer          891014 non-null  object\n",
      " 4   is_reply        891014 non-null  int64 \n",
      " 5   text            891014 non-null  object\n",
      " 6   id              891014 non-null  int64 \n",
      " 7   text_length     891014 non-null  int64 \n",
      "dtypes: int64(3), object(5)\n",
      "memory usage: 61.2+ MB\n"
     ]
    }
   ],
   "source": [
    "# id별로 그룹화하여 각 그룹 내에서 'is_reply'가 1인 row만 있는 그룹을 제거\n",
    "df_filtered_1 = df_filtered_0.groupby('id').filter(lambda x: not x['is_reply'].eq(1).all())\n",
    "df_filtered_1.info()"
   ]
  },
  {
   "cell_type": "markdown",
   "id": "c59a6e4a-c0ec-49cb-81c6-e927755a4343",
   "metadata": {},
   "source": [
    "### 2-c-7. 파일로 저장"
   ]
  },
  {
   "cell_type": "code",
   "execution_count": 52,
   "id": "52758bcd-56a0-4bfd-af81-6cfddccef1bb",
   "metadata": {},
   "outputs": [],
   "source": [
    "# .csv 파일로 저장\n",
    "df_filtered_1.to_csv(\"2_filtered_text.csv\", encoding='utf-8', index=False)"
   ]
  },
  {
   "cell_type": "markdown",
   "id": "56d87e33-a8e5-4461-a105-688dfcfc6692",
   "metadata": {},
   "source": [
    "#### 결과 확인"
   ]
  },
  {
   "cell_type": "code",
   "execution_count": 53,
   "id": "a7c26efb-14fe-4cdc-84eb-1d51939fbfd4",
   "metadata": {},
   "outputs": [
    {
     "name": "stdout",
     "output_type": "stream",
     "text": [
      "<class 'pandas.core.frame.DataFrame'>\n",
      "RangeIndex: 891014 entries, 0 to 891013\n",
      "Data columns (total 8 columns):\n",
      " #   Column          Non-Null Count   Dtype \n",
      "---  ------          --------------   ----- \n",
      " 0   search_keyword  891014 non-null  object\n",
      " 1   date_created    891014 non-null  object\n",
      " 2   time_created    891014 non-null  object\n",
      " 3   writer          891014 non-null  object\n",
      " 4   is_reply        891014 non-null  int64 \n",
      " 5   text            891014 non-null  object\n",
      " 6   id              891014 non-null  int64 \n",
      " 7   text_length     891014 non-null  int64 \n",
      "dtypes: int64(3), object(5)\n",
      "memory usage: 54.4+ MB\n"
     ]
    }
   ],
   "source": [
    "import pandas as pd\n",
    "file_name = \"2_filtered_text.csv\"\n",
    "df = pd.read_csv(file_name, encoding=\"utf-8\")\n",
    "df.info()"
   ]
  }
 ],
 "metadata": {
  "kernelspec": {
   "display_name": "Python 3 (ipykernel)",
   "language": "python",
   "name": "python3"
  },
  "language_info": {
   "codemirror_mode": {
    "name": "ipython",
    "version": 3
   },
   "file_extension": ".py",
   "mimetype": "text/x-python",
   "name": "python",
   "nbconvert_exporter": "python",
   "pygments_lexer": "ipython3",
   "version": "3.8.18"
  }
 },
 "nbformat": 4,
 "nbformat_minor": 5
}
