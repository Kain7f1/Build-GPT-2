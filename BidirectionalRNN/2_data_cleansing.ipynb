{
 "cells": [
  {
   "cell_type": "markdown",
   "id": "d949a2ae-c42c-442b-9c00-7edada709f2b",
   "metadata": {},
   "source": [
    "# 2. 데이터 정제"
   ]
  },
  {
   "cell_type": "markdown",
   "id": "b0b1662f-1058-4e6c-9a4c-7fde182f1594",
   "metadata": {},
   "source": [
    "## 데이터 불러오기"
   ]
  },
  {
   "cell_type": "code",
   "execution_count": 11,
   "id": "982f396d-493f-42ae-aaf8-616aff31f595",
   "metadata": {},
   "outputs": [
    {
     "data": {
      "text/html": [
       "<div>\n",
       "<style scoped>\n",
       "    .dataframe tbody tr th:only-of-type {\n",
       "        vertical-align: middle;\n",
       "    }\n",
       "\n",
       "    .dataframe tbody tr th {\n",
       "        vertical-align: top;\n",
       "    }\n",
       "\n",
       "    .dataframe thead th {\n",
       "        text-align: right;\n",
       "    }\n",
       "</style>\n",
       "<table border=\"1\" class=\"dataframe\">\n",
       "  <thead>\n",
       "    <tr style=\"text-align: right;\">\n",
       "      <th></th>\n",
       "      <th>search_keyword</th>\n",
       "      <th>date_created</th>\n",
       "      <th>time_created</th>\n",
       "      <th>writer</th>\n",
       "      <th>is_reply</th>\n",
       "      <th>text</th>\n",
       "      <th>id</th>\n",
       "    </tr>\n",
       "  </thead>\n",
       "  <tbody>\n",
       "    <tr>\n",
       "      <th>0</th>\n",
       "      <td>JYP</td>\n",
       "      <td>2023-06-13</td>\n",
       "      <td>12:50:42</td>\n",
       "      <td>ㅇㅇ</td>\n",
       "      <td>0</td>\n",
       "      <td>jyp가반년만에2배가올랏네 근디보니는인적자원위주로하는사업은먼가ㅂㄹ다걍제조업이조음..</td>\n",
       "      <td>10100746844</td>\n",
       "    </tr>\n",
       "    <tr>\n",
       "      <th>1</th>\n",
       "      <td>JYP</td>\n",
       "      <td>2023-05-16</td>\n",
       "      <td>17:52:40</td>\n",
       "      <td>ㅇㅇ(118.34)</td>\n",
       "      <td>0</td>\n",
       "      <td>야 개보지년들아 JYP 주가 봤냐.. 미쳣다 지금... 개잡주 오르는건 그러려니 하...</td>\n",
       "      <td>10100730087</td>\n",
       "    </tr>\n",
       "    <tr>\n",
       "      <th>2</th>\n",
       "      <td>JYP</td>\n",
       "      <td>2023-05-16</td>\n",
       "      <td>17:52:48</td>\n",
       "      <td>ㅇㅇ(118.34)</td>\n",
       "      <td>1</td>\n",
       "      <td>ㅠㅠ</td>\n",
       "      <td>10100730087</td>\n",
       "    </tr>\n",
       "    <tr>\n",
       "      <th>3</th>\n",
       "      <td>JYP</td>\n",
       "      <td>2023-05-16</td>\n",
       "      <td>18:04:04</td>\n",
       "      <td>ㅇㅇ(203.227)</td>\n",
       "      <td>1</td>\n",
       "      <td>ㅠㅠ</td>\n",
       "      <td>10100730087</td>\n",
       "    </tr>\n",
       "    <tr>\n",
       "      <th>4</th>\n",
       "      <td>JYP</td>\n",
       "      <td>2023-04-17</td>\n",
       "      <td>22:00:45</td>\n",
       "      <td>설묘.</td>\n",
       "      <td>0</td>\n",
       "      <td>니들 jyp 어케 생각해? ㄹㅇ 개미 너무 많이 붙는거 같은데</td>\n",
       "      <td>10100714904</td>\n",
       "    </tr>\n",
       "  </tbody>\n",
       "</table>\n",
       "</div>"
      ],
      "text/plain": [
       "  search_keyword date_created time_created       writer  is_reply  \\\n",
       "0            JYP   2023-06-13     12:50:42           ㅇㅇ         0   \n",
       "1            JYP   2023-05-16     17:52:40   ㅇㅇ(118.34)         0   \n",
       "2            JYP   2023-05-16     17:52:48   ㅇㅇ(118.34)         1   \n",
       "3            JYP   2023-05-16     18:04:04  ㅇㅇ(203.227)         1   \n",
       "4            JYP   2023-04-17     22:00:45          설묘.         0   \n",
       "\n",
       "                                                text           id  \n",
       "0     jyp가반년만에2배가올랏네 근디보니는인적자원위주로하는사업은먼가ㅂㄹ다걍제조업이조음..  10100746844  \n",
       "1  야 개보지년들아 JYP 주가 봤냐.. 미쳣다 지금... 개잡주 오르는건 그러려니 하...  10100730087  \n",
       "2                                                 ㅠㅠ  10100730087  \n",
       "3                                                 ㅠㅠ  10100730087  \n",
       "4                 니들 jyp 어케 생각해? ㄹㅇ 개미 너무 많이 붙는거 같은데  10100714904  "
      ]
     },
     "execution_count": 11,
     "metadata": {},
     "output_type": "execute_result"
    }
   ],
   "source": [
    "import pandas as pd\n",
    "df = pd.read_csv(\"1_id_text.csv\", encoding=\"utf-8\")\n",
    "df.head()"
   ]
  },
  {
   "cell_type": "code",
   "execution_count": 9,
   "id": "7ef47715-123e-4d0a-8859-a8dd59e7a1db",
   "metadata": {},
   "outputs": [
    {
     "name": "stdout",
     "output_type": "stream",
     "text": [
      "<class 'pandas.core.frame.DataFrame'>\n",
      "RangeIndex: 1153474 entries, 0 to 1153473\n",
      "Data columns (total 7 columns):\n",
      " #   Column          Non-Null Count    Dtype \n",
      "---  ------          --------------    ----- \n",
      " 0   search_keyword  1153474 non-null  object\n",
      " 1   date_created    1153474 non-null  object\n",
      " 2   time_created    1153474 non-null  object\n",
      " 3   writer          1153474 non-null  object\n",
      " 4   is_reply        1153474 non-null  int64 \n",
      " 5   text            1153474 non-null  object\n",
      " 6   id              1153474 non-null  int64 \n",
      "dtypes: int64(2), object(5)\n",
      "memory usage: 61.6+ MB\n"
     ]
    }
   ],
   "source": [
    "df.info()"
   ]
  },
  {
   "cell_type": "markdown",
   "id": "b6831b54-88e3-420f-8d79-42ef5296c533",
   "metadata": {},
   "source": [
    "## a. 무의미한 특수문자 제거"
   ]
  },
  {
   "cell_type": "code",
   "execution_count": 15,
   "id": "06838aee-321d-48d6-844c-fbf580492553",
   "metadata": {},
   "outputs": [],
   "source": [
    "# 무의미한 특수문자 제거\n",
    "import re\n",
    "def remove_special_characters(input_text):\n",
    "    # 정규 표현식을 사용하여 지정한 특수문자를 제외한 모든 특수문자를 찾아 제거\n",
    "    pattern = r'[^\\w.,!:()\\[\\]{}\\-_@#$%^&\\s]'  # \\w는 문자와 숫자를 의미, \\s는 공백을 의미\n",
    "    cleaned_text = re.sub(pattern, '', input_text)\n",
    "    return cleaned_text"
   ]
  },
  {
   "cell_type": "code",
   "execution_count": 20,
   "id": "9dd31f4b-5441-4808-9bea-35c1815548a3",
   "metadata": {},
   "outputs": [
    {
     "name": "stdout",
     "output_type": "stream",
     "text": [
      "abc!@#$^셀1트\n"
     ]
    }
   ],
   "source": [
    "# 테스트\n",
    "temp_text = \"ab■c!@#$^◆셀1트\"\n",
    "new_text = remove_special_characters(temp_text)\n",
    "print(new_text)"
   ]
  },
  {
   "cell_type": "code",
   "execution_count": 21,
   "id": "953e188c-ed9e-4c4f-80ee-b85da7d1068f",
   "metadata": {},
   "outputs": [
    {
     "name": "stdout",
     "output_type": "stream",
     "text": [
      "Collecting soynlp\n",
      "  Downloading soynlp-0.0.493-py3-none-any.whl (416 kB)\n",
      "     ---------------------------------------- 0.0/416.8 kB ? eta -:--:--\n",
      "      --------------------------------------- 10.2/416.8 kB ? eta -:--:--\n",
      "     ------- ------------------------------- 81.9/416.8 kB 1.2 MB/s eta 0:00:01\n",
      "     -------------------------------------- 416.8/416.8 kB 4.3 MB/s eta 0:00:00\n",
      "Requirement already satisfied: numpy>=1.12.1 in c:\\users\\user\\.conda\\envs\\brnn\\lib\\site-packages (from soynlp) (1.24.3)\n",
      "Requirement already satisfied: psutil>=5.0.1 in c:\\users\\user\\.conda\\envs\\brnn\\lib\\site-packages (from soynlp) (5.9.0)\n",
      "Collecting scipy>=1.1.0 (from soynlp)\n",
      "  Downloading scipy-1.10.1-cp38-cp38-win_amd64.whl (42.2 MB)\n",
      "     ---------------------------------------- 0.0/42.2 MB ? eta -:--:--\n",
      "      --------------------------------------- 0.6/42.2 MB 12.6 MB/s eta 0:00:04\n",
      "     - -------------------------------------- 1.1/42.2 MB 12.0 MB/s eta 0:00:04\n",
      "     - -------------------------------------- 1.6/42.2 MB 11.6 MB/s eta 0:00:04\n",
      "     -- ------------------------------------- 2.2/42.2 MB 11.6 MB/s eta 0:00:04\n",
      "     -- ------------------------------------- 2.7/42.2 MB 11.5 MB/s eta 0:00:04\n",
      "     --- ------------------------------------ 3.3/42.2 MB 11.5 MB/s eta 0:00:04\n",
      "     --- ------------------------------------ 3.8/42.2 MB 12.0 MB/s eta 0:00:04\n",
      "     ---- ----------------------------------- 4.5/42.2 MB 12.0 MB/s eta 0:00:04\n",
      "     ---- ----------------------------------- 5.0/42.2 MB 11.9 MB/s eta 0:00:04\n",
      "     ----- ---------------------------------- 5.6/42.2 MB 11.8 MB/s eta 0:00:04\n",
      "     ----- ---------------------------------- 6.1/42.2 MB 11.7 MB/s eta 0:00:04\n",
      "     ------ --------------------------------- 6.6/42.2 MB 11.7 MB/s eta 0:00:04\n",
      "     ------ --------------------------------- 7.1/42.2 MB 11.7 MB/s eta 0:00:03\n",
      "     ------- -------------------------------- 7.7/42.2 MB 11.9 MB/s eta 0:00:03\n",
      "     ------- -------------------------------- 8.4/42.2 MB 11.9 MB/s eta 0:00:03\n",
      "     -------- ------------------------------- 9.1/42.2 MB 11.8 MB/s eta 0:00:03\n",
      "     --------- ------------------------------ 9.6/42.2 MB 11.8 MB/s eta 0:00:03\n",
      "     --------- ----------------------------- 10.1/42.2 MB 11.8 MB/s eta 0:00:03\n",
      "     --------- ----------------------------- 10.7/42.2 MB 11.7 MB/s eta 0:00:03\n",
      "     ---------- ---------------------------- 11.2/42.2 MB 11.7 MB/s eta 0:00:03\n",
      "     ---------- ---------------------------- 11.7/42.2 MB 11.7 MB/s eta 0:00:03\n",
      "     ----------- --------------------------- 12.3/42.2 MB 11.9 MB/s eta 0:00:03\n",
      "     ----------- --------------------------- 13.0/42.2 MB 11.9 MB/s eta 0:00:03\n",
      "     ------------ -------------------------- 13.5/42.2 MB 11.9 MB/s eta 0:00:03\n",
      "     ------------ -------------------------- 14.0/42.2 MB 11.9 MB/s eta 0:00:03\n",
      "     ------------- ------------------------- 14.6/42.2 MB 11.7 MB/s eta 0:00:03\n",
      "     ------------- ------------------------- 15.1/42.2 MB 11.7 MB/s eta 0:00:03\n",
      "     -------------- ------------------------ 15.6/42.2 MB 11.7 MB/s eta 0:00:03\n",
      "     -------------- ------------------------ 16.2/42.2 MB 11.7 MB/s eta 0:00:03\n",
      "     --------------- ----------------------- 16.7/42.2 MB 11.9 MB/s eta 0:00:03\n",
      "     ---------------- ---------------------- 17.4/42.2 MB 11.9 MB/s eta 0:00:03\n",
      "     ---------------- ---------------------- 17.9/42.2 MB 11.9 MB/s eta 0:00:03\n",
      "     ----------------- --------------------- 18.5/42.2 MB 11.9 MB/s eta 0:00:02\n",
      "     ----------------- --------------------- 19.0/42.2 MB 11.7 MB/s eta 0:00:02\n",
      "     ------------------ -------------------- 19.5/42.2 MB 11.7 MB/s eta 0:00:02\n",
      "     ------------------ -------------------- 20.0/42.2 MB 11.7 MB/s eta 0:00:02\n",
      "     ------------------ -------------------- 20.6/42.2 MB 11.7 MB/s eta 0:00:02\n",
      "     ------------------- ------------------- 21.3/42.2 MB 11.9 MB/s eta 0:00:02\n",
      "     -------------------- ------------------ 22.0/42.2 MB 11.9 MB/s eta 0:00:02\n",
      "     -------------------- ------------------ 22.5/42.2 MB 11.9 MB/s eta 0:00:02\n",
      "     --------------------- ----------------- 23.0/42.2 MB 11.7 MB/s eta 0:00:02\n",
      "     --------------------- ----------------- 23.6/42.2 MB 11.7 MB/s eta 0:00:02\n",
      "     ---------------------- ---------------- 24.1/42.2 MB 11.7 MB/s eta 0:00:02\n",
      "     ---------------------- ---------------- 24.6/42.2 MB 11.9 MB/s eta 0:00:02\n",
      "     ----------------------- --------------- 25.3/42.2 MB 11.9 MB/s eta 0:00:02\n",
      "     ------------------------ -------------- 26.0/42.2 MB 11.9 MB/s eta 0:00:02\n",
      "     ------------------------ -------------- 26.5/42.2 MB 11.7 MB/s eta 0:00:02\n",
      "     ------------------------- ------------- 27.1/42.2 MB 11.7 MB/s eta 0:00:02\n",
      "     ------------------------- ------------- 27.6/42.2 MB 11.7 MB/s eta 0:00:02\n",
      "     ------------------------- ------------- 28.1/42.2 MB 11.7 MB/s eta 0:00:02\n",
      "     -------------------------- ------------ 28.7/42.2 MB 11.7 MB/s eta 0:00:02\n",
      "     --------------------------- ----------- 29.4/42.2 MB 11.9 MB/s eta 0:00:02\n",
      "     --------------------------- ----------- 30.1/42.2 MB 11.9 MB/s eta 0:00:02\n",
      "     ---------------------------- ---------- 30.6/42.2 MB 11.9 MB/s eta 0:00:01\n",
      "     ---------------------------- ---------- 31.2/42.2 MB 11.7 MB/s eta 0:00:01\n",
      "     ----------------------------- --------- 31.7/42.2 MB 11.7 MB/s eta 0:00:01\n",
      "     ----------------------------- --------- 32.2/42.2 MB 11.7 MB/s eta 0:00:01\n",
      "     ------------------------------ -------- 32.7/42.2 MB 11.7 MB/s eta 0:00:01\n",
      "     ------------------------------ -------- 33.3/42.2 MB 11.7 MB/s eta 0:00:01\n",
      "     ------------------------------- ------- 34.0/42.2 MB 11.9 MB/s eta 0:00:01\n",
      "     ------------------------------- ------- 34.5/42.2 MB 11.9 MB/s eta 0:00:01\n",
      "     -------------------------------- ------ 35.0/42.2 MB 11.9 MB/s eta 0:00:01\n",
      "     -------------------------------- ------ 35.6/42.2 MB 11.9 MB/s eta 0:00:01\n",
      "     --------------------------------- ----- 36.1/42.2 MB 11.7 MB/s eta 0:00:01\n",
      "     --------------------------------- ----- 36.6/42.2 MB 11.7 MB/s eta 0:00:01\n",
      "     ---------------------------------- ---- 37.2/42.2 MB 11.7 MB/s eta 0:00:01\n",
      "     ---------------------------------- ---- 37.7/42.2 MB 11.9 MB/s eta 0:00:01\n",
      "     ----------------------------------- --- 38.4/42.2 MB 11.9 MB/s eta 0:00:01\n",
      "     ----------------------------------- --- 38.9/42.2 MB 11.9 MB/s eta 0:00:01\n",
      "     ------------------------------------ -- 39.5/42.2 MB 11.9 MB/s eta 0:00:01\n",
      "     ------------------------------------ -- 40.0/42.2 MB 11.7 MB/s eta 0:00:01\n",
      "     ------------------------------------- - 40.5/42.2 MB 11.7 MB/s eta 0:00:01\n",
      "     ------------------------------------- - 41.0/42.2 MB 11.7 MB/s eta 0:00:01\n",
      "     --------------------------------------  41.6/42.2 MB 11.7 MB/s eta 0:00:01\n",
      "     --------------------------------------  42.2/42.2 MB 11.9 MB/s eta 0:00:01\n",
      "     --------------------------------------- 42.2/42.2 MB 11.3 MB/s eta 0:00:00\n",
      "Collecting scikit-learn>=0.20.0 (from soynlp)\n",
      "  Downloading scikit_learn-1.3.2-cp38-cp38-win_amd64.whl.metadata (11 kB)\n",
      "Collecting joblib>=1.1.1 (from scikit-learn>=0.20.0->soynlp)\n",
      "  Downloading joblib-1.3.2-py3-none-any.whl.metadata (5.4 kB)\n",
      "Collecting threadpoolctl>=2.0.0 (from scikit-learn>=0.20.0->soynlp)\n",
      "  Downloading threadpoolctl-3.2.0-py3-none-any.whl.metadata (10.0 kB)\n",
      "Downloading scikit_learn-1.3.2-cp38-cp38-win_amd64.whl (9.3 MB)\n",
      "   ---------------------------------------- 0.0/9.3 MB ? eta -:--:--\n",
      "   -- ------------------------------------- 0.7/9.3 MB 14.4 MB/s eta 0:00:01\n",
      "   ----- ---------------------------------- 1.2/9.3 MB 12.7 MB/s eta 0:00:01\n",
      "   ------- -------------------------------- 1.7/9.3 MB 12.4 MB/s eta 0:00:01\n",
      "   --------- ------------------------------ 2.3/9.3 MB 12.1 MB/s eta 0:00:01\n",
      "   ------------ --------------------------- 2.8/9.3 MB 11.9 MB/s eta 0:00:01\n",
      "   -------------- ------------------------- 3.3/9.3 MB 11.8 MB/s eta 0:00:01\n",
      "   ---------------- ----------------------- 3.9/9.3 MB 12.4 MB/s eta 0:00:01\n",
      "   ------------------- -------------------- 4.6/9.3 MB 12.2 MB/s eta 0:00:01\n",
      "   ---------------------- ----------------- 5.1/9.3 MB 12.1 MB/s eta 0:00:01\n",
      "   ------------------------ --------------- 5.6/9.3 MB 12.0 MB/s eta 0:00:01\n",
      "   -------------------------- ------------- 6.2/9.3 MB 11.9 MB/s eta 0:00:01\n",
      "   ---------------------------- ----------- 6.7/9.3 MB 11.9 MB/s eta 0:00:01\n",
      "   ------------------------------- -------- 7.2/9.3 MB 11.8 MB/s eta 0:00:01\n",
      "   --------------------------------- ------ 7.7/9.3 MB 12.1 MB/s eta 0:00:01\n",
      "   ------------------------------------ --- 8.4/9.3 MB 12.0 MB/s eta 0:00:01\n",
      "   -------------------------------------- - 9.0/9.3 MB 11.9 MB/s eta 0:00:01\n",
      "   ---------------------------------------- 9.3/9.3 MB 11.6 MB/s eta 0:00:00\n",
      "Downloading joblib-1.3.2-py3-none-any.whl (302 kB)\n",
      "   ---------------------------------------- 0.0/302.2 kB ? eta -:--:--\n",
      "   ---------------------------------------- 302.2/302.2 kB 9.4 MB/s eta 0:00:00\n",
      "Downloading threadpoolctl-3.2.0-py3-none-any.whl (15 kB)\n",
      "Installing collected packages: threadpoolctl, scipy, joblib, scikit-learn, soynlp\n",
      "Successfully installed joblib-1.3.2 scikit-learn-1.3.2 scipy-1.10.1 soynlp-0.0.493 threadpoolctl-3.2.0\n"
     ]
    }
   ],
   "source": [
    "!pip install soynlp"
   ]
  },
  {
   "cell_type": "markdown",
   "id": "b9a62085-1690-4b63-ae37-06a934d62ebd",
   "metadata": {},
   "source": [
    "## b. 반복되는 문자 최대 3개로 줄임"
   ]
  },
  {
   "cell_type": "code",
   "execution_count": 29,
   "id": "1a03725b-58cc-4774-891a-455289a714e5",
   "metadata": {},
   "outputs": [
    {
     "name": "stdout",
     "output_type": "stream",
     "text": [
      "zzz ㅋ ㅠㅠㅠ ㅋㅋ 1234 ㅋㅋㅋ 하하하 ㅋㅋㅋ\n"
     ]
    }
   ],
   "source": [
    "# 반복되는 문자를 최대 3개만 남깁니다\n",
    "from soynlp.normalizer import *\n",
    "temp_text = \"zzzz ㅋ ㅠㅠㅠㅠ ㅋㅋ 1234 ㅋㅋㅋ 하하하하 ㅋㅋㅋㅋㅋ \"\n",
    "new_text = emoticon_normalize(temp_text, num_repeats=3)\n",
    "print(new_text)"
   ]
  },
  {
   "cell_type": "markdown",
   "id": "fcffb7a2-9473-44cc-ad8b-c913f9c3f65d",
   "metadata": {},
   "source": [
    "## text 정제 함수 : a + b"
   ]
  },
  {
   "cell_type": "code",
   "execution_count": 32,
   "id": "871fae84-e4c3-42a4-b355-d53284ebbf1e",
   "metadata": {},
   "outputs": [],
   "source": [
    "# text 정제 함수\n",
    "def cleanse_text(input_text):\n",
    "    cleansed_text = remove_special_characters(input_text)\n",
    "    cleansed_text = emoticon_normalize(cleansed_text, num_repeats=3)\n",
    "    return cleansed_text"
   ]
  },
  {
   "cell_type": "code",
   "execution_count": 33,
   "id": "e4b625e3-e4fc-444a-9aa6-60b9595f40ed",
   "metadata": {},
   "outputs": [
    {
     "name": "stdout",
     "output_type": "stream",
     "text": [
      "bc!@#$^ㅋㅋㅋ\n"
     ]
    }
   ],
   "source": [
    "# 테스트\n",
    "temp_text = \"b■c!@#$^◆ㅋㅋㅋㅋㅋㅋㅋㅋ\"\n",
    "new_text = cleanse_text(temp_text)\n",
    "print(new_text)"
   ]
  },
  {
   "cell_type": "markdown",
   "id": "6d823637-c9a6-4e74-9b36-7190aff3964f",
   "metadata": {},
   "source": [
    "## df에 적용하기"
   ]
  },
  {
   "cell_type": "code",
   "execution_count": 34,
   "id": "a406e7f6-5176-45a9-bef2-3bcd9d556f43",
   "metadata": {},
   "outputs": [
    {
     "data": {
      "text/html": [
       "<div>\n",
       "<style scoped>\n",
       "    .dataframe tbody tr th:only-of-type {\n",
       "        vertical-align: middle;\n",
       "    }\n",
       "\n",
       "    .dataframe tbody tr th {\n",
       "        vertical-align: top;\n",
       "    }\n",
       "\n",
       "    .dataframe thead th {\n",
       "        text-align: right;\n",
       "    }\n",
       "</style>\n",
       "<table border=\"1\" class=\"dataframe\">\n",
       "  <thead>\n",
       "    <tr style=\"text-align: right;\">\n",
       "      <th></th>\n",
       "      <th>search_keyword</th>\n",
       "      <th>date_created</th>\n",
       "      <th>time_created</th>\n",
       "      <th>writer</th>\n",
       "      <th>is_reply</th>\n",
       "      <th>text</th>\n",
       "      <th>id</th>\n",
       "      <th>cleansed_text</th>\n",
       "    </tr>\n",
       "  </thead>\n",
       "  <tbody>\n",
       "    <tr>\n",
       "      <th>1153471</th>\n",
       "      <td>휴젤</td>\n",
       "      <td>2020-04-29</td>\n",
       "      <td>11:55:10</td>\n",
       "      <td>ㅇㅇ(123.215)</td>\n",
       "      <td>0</td>\n",
       "      <td>미국주식보다 한국꺼보면 ㄹㅇ 암걸릴 것 같음 특히 휴젤 저거 아는분이 임원진인데 회...</td>\n",
       "      <td>241400125127</td>\n",
       "      <td>미국주식보다 한국꺼보면 ㄹㅇ 암걸릴 것 같음 특히 휴젤 저거 아는분이 임원진인데 회...</td>\n",
       "    </tr>\n",
       "    <tr>\n",
       "      <th>1153472</th>\n",
       "      <td>휴젤</td>\n",
       "      <td>2020-04-29</td>\n",
       "      <td>11:56:16</td>\n",
       "      <td>ㅇㄷ(175.223)</td>\n",
       "      <td>1</td>\n",
       "      <td>한국 상장회사들중에 ㅂㅅ같은곳이 넘 많음...</td>\n",
       "      <td>241400125127</td>\n",
       "      <td>한국 상장회사들중에 ㅂㅅ은곳이 넘 많음...</td>\n",
       "    </tr>\n",
       "    <tr>\n",
       "      <th>1153473</th>\n",
       "      <td>휴젤</td>\n",
       "      <td>2020-04-29</td>\n",
       "      <td>11:56:38</td>\n",
       "      <td>ㅇㅇ(223.33)</td>\n",
       "      <td>1</td>\n",
       "      <td>신흥국 회사투자 망설여지는 게 이거 때문임. 주식시장에 대한 개념이 안 잡혀있음.</td>\n",
       "      <td>241400125127</td>\n",
       "      <td>신흥국 회사투자 망설여지는 게 이거 때문임. 주식시장에 대한 개념이 안 잡혀있음.</td>\n",
       "    </tr>\n",
       "  </tbody>\n",
       "</table>\n",
       "</div>"
      ],
      "text/plain": [
       "        search_keyword date_created time_created       writer  is_reply  \\\n",
       "1153471             휴젤   2020-04-29     11:55:10  ㅇㅇ(123.215)         0   \n",
       "1153472             휴젤   2020-04-29     11:56:16  ㅇㄷ(175.223)         1   \n",
       "1153473             휴젤   2020-04-29     11:56:38   ㅇㅇ(223.33)         1   \n",
       "\n",
       "                                                      text            id  \\\n",
       "1153471  미국주식보다 한국꺼보면 ㄹㅇ 암걸릴 것 같음 특히 휴젤 저거 아는분이 임원진인데 회...  241400125127   \n",
       "1153472                          한국 상장회사들중에 ㅂㅅ같은곳이 넘 많음...  241400125127   \n",
       "1153473      신흥국 회사투자 망설여지는 게 이거 때문임. 주식시장에 대한 개념이 안 잡혀있음.  241400125127   \n",
       "\n",
       "                                             cleansed_text  \n",
       "1153471  미국주식보다 한국꺼보면 ㄹㅇ 암걸릴 것 같음 특히 휴젤 저거 아는분이 임원진인데 회...  \n",
       "1153472                           한국 상장회사들중에 ㅂㅅ은곳이 넘 많음...  \n",
       "1153473      신흥국 회사투자 망설여지는 게 이거 때문임. 주식시장에 대한 개념이 안 잡혀있음.  "
      ]
     },
     "execution_count": 34,
     "metadata": {},
     "output_type": "execute_result"
    }
   ],
   "source": [
    "# 모든 text를 정제한다.\n",
    "df['cleansed_text'] = df['text'].apply(cleanse_text)\n",
    "df.tail(3)"
   ]
  },
  {
   "cell_type": "code",
   "execution_count": 5,
   "id": "17e77e9f-66c6-4c78-83b2-88cb856660b1",
   "metadata": {},
   "outputs": [
    {
     "name": "stdout",
     "output_type": "stream",
     "text": [
      "<class 'pandas.core.frame.DataFrame'>\n",
      "RangeIndex: 1153474 entries, 0 to 1153473\n",
      "Data columns (total 8 columns):\n",
      " #   Column          Non-Null Count    Dtype \n",
      "---  ------          --------------    ----- \n",
      " 0   search_keyword  1153474 non-null  object\n",
      " 1   date_created    1153474 non-null  object\n",
      " 2   time_created    1153474 non-null  object\n",
      " 3   writer          1153474 non-null  object\n",
      " 4   is_reply        1153474 non-null  int64 \n",
      " 5   text            1153474 non-null  object\n",
      " 6   id              1153474 non-null  int64 \n",
      " 7   cleansed_text   1152312 non-null  object\n",
      "dtypes: int64(2), object(6)\n",
      "memory usage: 70.4+ MB\n"
     ]
    }
   ],
   "source": [
    "# 결과 확인\n",
    "df.info()"
   ]
  },
  {
   "cell_type": "markdown",
   "id": "0fb355b6-edd5-478c-bfd2-6145f702464c",
   "metadata": {},
   "source": [
    "## 결측치 제거"
   ]
  },
  {
   "cell_type": "code",
   "execution_count": 7,
   "id": "7d28bd25-1603-4bcc-afdb-ee5a85555f33",
   "metadata": {},
   "outputs": [
    {
     "name": "stdout",
     "output_type": "stream",
     "text": [
      "<class 'pandas.core.frame.DataFrame'>\n",
      "Index: 1152312 entries, 0 to 1153473\n",
      "Data columns (total 8 columns):\n",
      " #   Column          Non-Null Count    Dtype \n",
      "---  ------          --------------    ----- \n",
      " 0   search_keyword  1152312 non-null  object\n",
      " 1   date_created    1152312 non-null  object\n",
      " 2   time_created    1152312 non-null  object\n",
      " 3   writer          1152312 non-null  object\n",
      " 4   is_reply        1152312 non-null  int64 \n",
      " 5   text            1152312 non-null  object\n",
      " 6   id              1152312 non-null  int64 \n",
      " 7   cleansed_text   1152312 non-null  object\n",
      "dtypes: int64(2), object(6)\n",
      "memory usage: 79.1+ MB\n"
     ]
    }
   ],
   "source": [
    "# 결측치 제거\n",
    "df_dropna = df.dropna().copy()\n",
    "df_dropna.info()"
   ]
  },
  {
   "cell_type": "markdown",
   "id": "12cfb192-ffc8-42cc-b8e3-b90344dbf95f",
   "metadata": {},
   "source": [
    "## 파일로 저장"
   ]
  },
  {
   "cell_type": "code",
   "execution_count": 8,
   "id": "e3f46eef-cfb0-4bf6-8d95-e8f15c193f10",
   "metadata": {},
   "outputs": [],
   "source": [
    "# .csv 파일로 저장한다\n",
    "df_dropna.to_csv(\"2_cleansed_text.csv\", index=False, encoding=\"utf-8\")"
   ]
  },
  {
   "cell_type": "code",
   "execution_count": 9,
   "id": "9c0742f0-043e-47bd-9d30-86d1bf1d9070",
   "metadata": {},
   "outputs": [],
   "source": [
    "# 말뭉치를 .txt 파일로 저장한다\n",
    "texts = df_dropna['cleansed_text'].tolist()\n",
    "\n",
    "with open('2_cleansed_corpus.txt', 'w', encoding='utf-8') as file:\n",
    "    for text in texts:\n",
    "        file.write(text + '\\n')"
   ]
  }
 ],
 "metadata": {
  "kernelspec": {
   "display_name": "Python 3 (ipykernel)",
   "language": "python",
   "name": "python3"
  },
  "language_info": {
   "codemirror_mode": {
    "name": "ipython",
    "version": 3
   },
   "file_extension": ".py",
   "mimetype": "text/x-python",
   "name": "python",
   "nbconvert_exporter": "python",
   "pygments_lexer": "ipython3",
   "version": "3.8.18"
  }
 },
 "nbformat": 4,
 "nbformat_minor": 5
}
