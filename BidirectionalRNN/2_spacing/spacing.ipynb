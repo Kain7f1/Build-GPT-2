{
 "cells": [
  {
   "cell_type": "code",
   "execution_count": 3,
   "id": "884ce6d4-99fe-4f18-a2f6-989475de56dd",
   "metadata": {},
   "outputs": [],
   "source": [
    "import pandas as pd"
   ]
  },
  {
   "cell_type": "code",
   "execution_count": 4,
   "id": "f7338727-082e-4d59-ab43-e0515ea5f061",
   "metadata": {
    "scrolled": true
   },
   "outputs": [],
   "source": [
    "df = pd.read_csv(\"id_text.csv\", encoding=\"utf-8\")"
   ]
  },
  {
   "cell_type": "code",
   "execution_count": 6,
   "id": "93d47688-5842-433a-9fa5-e6441641dfed",
   "metadata": {},
   "outputs": [],
   "source": [
    "df_new = df[['text']]"
   ]
  },
  {
   "cell_type": "code",
   "execution_count": 8,
   "id": "c4c344ad-77b8-445b-84cc-e4ff3a742c85",
   "metadata": {},
   "outputs": [
    {
     "data": {
      "text/html": [
       "<div>\n",
       "<style scoped>\n",
       "    .dataframe tbody tr th:only-of-type {\n",
       "        vertical-align: middle;\n",
       "    }\n",
       "\n",
       "    .dataframe tbody tr th {\n",
       "        vertical-align: top;\n",
       "    }\n",
       "\n",
       "    .dataframe thead th {\n",
       "        text-align: right;\n",
       "    }\n",
       "</style>\n",
       "<table border=\"1\" class=\"dataframe\">\n",
       "  <thead>\n",
       "    <tr style=\"text-align: right;\">\n",
       "      <th></th>\n",
       "      <th>text</th>\n",
       "    </tr>\n",
       "  </thead>\n",
       "  <tbody>\n",
       "    <tr>\n",
       "      <th>0</th>\n",
       "      <td>jyp가반년만에2배가올랏네 근디보니는인적자원위주로하는사업은먼가ㅂㄹ다걍제조업이조음..</td>\n",
       "    </tr>\n",
       "    <tr>\n",
       "      <th>1</th>\n",
       "      <td>야 개보지년들아 JYP 주가 봤냐.. 미쳣다 지금... 개잡주 오르는건 그러려니 하...</td>\n",
       "    </tr>\n",
       "    <tr>\n",
       "      <th>2</th>\n",
       "      <td>ㅠㅠ</td>\n",
       "    </tr>\n",
       "    <tr>\n",
       "      <th>3</th>\n",
       "      <td>ㅠㅠ</td>\n",
       "    </tr>\n",
       "    <tr>\n",
       "      <th>4</th>\n",
       "      <td>니들 jyp 어케 생각해? ㄹㅇ 개미 너무 많이 붙는거 같은데</td>\n",
       "    </tr>\n",
       "  </tbody>\n",
       "</table>\n",
       "</div>"
      ],
      "text/plain": [
       "                                                text\n",
       "0     jyp가반년만에2배가올랏네 근디보니는인적자원위주로하는사업은먼가ㅂㄹ다걍제조업이조음..\n",
       "1  야 개보지년들아 JYP 주가 봤냐.. 미쳣다 지금... 개잡주 오르는건 그러려니 하...\n",
       "2                                                 ㅠㅠ\n",
       "3                                                 ㅠㅠ\n",
       "4                 니들 jyp 어케 생각해? ㄹㅇ 개미 너무 많이 붙는거 같은데"
      ]
     },
     "execution_count": 8,
     "metadata": {},
     "output_type": "execute_result"
    }
   ],
   "source": [
    "df_new.head()"
   ]
  },
  {
   "cell_type": "code",
   "execution_count": 9,
   "id": "8e58ddec-e317-4869-a8c9-f77a1623327c",
   "metadata": {},
   "outputs": [],
   "source": [
    "# 말뭉치 파일 만들기\n",
    "df_new.to_csv(\"./text.csv\", encoding='utf-8', index=False)\n",
    "# 이후 확장자만 .txt로 바꾸었음"
   ]
  },
  {
   "cell_type": "code",
   "execution_count": 10,
   "id": "10702976-6de9-4533-825b-40145c224e83",
   "metadata": {},
   "outputs": [
    {
     "name": "stdout",
     "output_type": "stream",
     "text": [
      "Collecting soyspacing\n",
      "  Downloading soyspacing-1.0.17-py3-none-any.whl (10 kB)\n",
      "Requirement already satisfied: numpy>=1.12.0 in c:\\users\\user\\.conda\\envs\\brnn\\lib\\site-packages (from soyspacing) (1.24.3)\n",
      "Installing collected packages: soyspacing\n",
      "Successfully installed soyspacing-1.0.17\n"
     ]
    }
   ],
   "source": [
    "!pip install soyspacing"
   ]
  },
  {
   "cell_type": "code",
   "execution_count": 12,
   "id": "b7b509f1-2ae4-49a3-a870-4672d0b0efce",
   "metadata": {},
   "outputs": [
    {
     "name": "stdout",
     "output_type": "stream",
     "text": [
      "all tags length = 4004874 --> 2508123, (num_doc = 1156459)"
     ]
    }
   ],
   "source": [
    "from soyspacing.countbase import CountSpace\n",
    "\n",
    "# spacing 모델 학습시키기\n",
    "corpus_fname = './text.txt'  # 입력 말뭉치 파일\n",
    "model = CountSpace()\n",
    "model.train(corpus_fname)  # spacing 모델 학습"
   ]
  },
  {
   "cell_type": "code",
   "execution_count": 14,
   "id": "638a1afd-6b3e-4d2d-833f-7e817dcb9e29",
   "metadata": {},
   "outputs": [],
   "source": [
    "# 학습된 spacing 모델 파일로 저장하기\n",
    "model_fname = \"spacing_model_1\"\n",
    "model.save_model(model_fname, json_format=False)"
   ]
  },
  {
   "cell_type": "code",
   "execution_count": 16,
   "id": "c38e7e2a-a264-4e39-8dd1-41a4d2f5819c",
   "metadata": {},
   "outputs": [],
   "source": [
    "# spacing 모델 파일 불러오기\n",
    "model_fname = \"spacing_model_1\"\n",
    "model = CountSpace()\n",
    "model.load_model(model_fname, json_format=False)"
   ]
  },
  {
   "cell_type": "code",
   "execution_count": 24,
   "id": "3a564340-4b0a-4fb2-b4bc-0cd105f2d809",
   "metadata": {},
   "outputs": [
    {
     "name": "stdout",
     "output_type": "stream",
     "text": [
      "행님댓글읽다보니까 수급+a로가야살아남을확률이 높아지는거구나 싶긴함...요즘수급만 보고 매매하는거에 한계를 느끼긴했음 ㅠㅠ글구 최근에 해운이랑 철강 한번 오고 담주는 건설일 것 같음 담주 월욜 시초에 현산이랑 현대건설 타려고 하는데 어떨까여\n"
     ]
    }
   ],
   "source": [
    "verbose=False\n",
    "mc = 10  # min_count\n",
    "ft = 0.3 # force_abs_threshold\n",
    "nt =-0.3 # nonspace_threshold\n",
    "st = 0.3 # space_threshold\n",
    "\n",
    "sent = '행님댓글읽다보니까수급+a로가야살아남을확률이높아지는거구나싶긴함...요즘수급만보고매매하는거에한계를느끼긴했음ㅠㅠ글구 최근에 해운이랑 철강 한번 오고 담주는 건설일 것 같음 담주 월욜 시초에 현산이랑 현대건설 타려고 하는데 어떨까여'\n",
    "\n",
    "# with parameters\n",
    "sent_corrected, tags = model.correct(\n",
    "    doc=sent,\n",
    "    verbose=verbose,\n",
    "    force_abs_threshold=ft,\n",
    "    nonspace_threshold=nt,\n",
    "    space_threshold=st,\n",
    "    min_count=mc)\n",
    "\n",
    "# without parameters\n",
    "sent_corrected, tags = model.correct(sent)\n",
    "\n",
    "print(sent_corrected)"
   ]
  }
 ],
 "metadata": {
  "kernelspec": {
   "display_name": "Python 3 (ipykernel)",
   "language": "python",
   "name": "python3"
  },
  "language_info": {
   "codemirror_mode": {
    "name": "ipython",
    "version": 3
   },
   "file_extension": ".py",
   "mimetype": "text/x-python",
   "name": "python",
   "nbconvert_exporter": "python",
   "pygments_lexer": "ipython3",
   "version": "3.8.18"
  }
 },
 "nbformat": 4,
 "nbformat_minor": 5
}
